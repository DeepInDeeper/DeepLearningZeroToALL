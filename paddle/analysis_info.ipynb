{
 "cells": [
  {
   "cell_type": "code",
   "execution_count": 1,
   "metadata": {
    "collapsed": true
   },
   "outputs": [],
   "source": [
    "# 加载数据分析常用库\n",
    "import pandas as pd\n",
    "import numpy as np\n",
    "import matplotlib.pyplot as plt\n",
    "import os\n",
    "% matplotlib inline"
   ]
  },
  {
   "cell_type": "code",
   "execution_count": 2,
   "metadata": {},
   "outputs": [],
   "source": [
    "#TRAINING_METAPATH = \"D:/dataset/paddle/store/training.json\"\n",
    "VALIDATION_METAPATH = \"D:/dataset/paddle/store/validation.json\"\n",
    "TESTING_METAPATH = \"D:/dataset/paddle/store/testing.json\"\n",
    "\n",
    "#train_info = pd.read_json(TRAINING_METAPATH)\n",
    "valid_info = pd.read_json(VALIDATION_METAPATH)\n",
    "test_info = pd.read_json(TESTING_METAPATH)"
   ]
  },
  {
   "cell_type": "code",
   "execution_count": 3,
   "metadata": {},
   "outputs": [
    {
     "name": "stdout",
     "output_type": "stream",
     "text": [
      "((115, 2), (114, 2))\n"
     ]
    }
   ],
   "source": [
    "print (valid_info.shape,test_info.shape)"
   ]
  },
  {
   "cell_type": "code",
   "execution_count": 4,
   "metadata": {
    "collapsed": true
   },
   "outputs": [],
   "source": [
    "#train_database = train_info[\"database\"]\n",
    "valid_database = valid_info[\"database\"]\n",
    "test_database = test_info[\"database\"]"
   ]
  },
  {
   "cell_type": "code",
   "execution_count": 5,
   "metadata": {
    "collapsed": true
   },
   "outputs": [],
   "source": [
    "DATA_DIR = \"D:/dataset/paddle/valid/\"\n",
    "def generater_dataset(file_name):\n",
    "    file_name_path = os.path.join(DATA_DIR,str(file_name)+\".pkl\")\n",
    "    X = np.load(file_name_path)\n",
    "    X = np.array(X)\n",
    "    \n",
    "    ## get Y label\n",
    "    valid_new_list = []\n",
    "    for valid_list in valid_database[file_name][\"annotations\"]:\n",
    "        valid_new_list = valid_new_list + valid_list['segment']\n",
    "    # 转换为 整数\n",
    "    valid_new_list = np.array(valid_new_list,dtype=\"int\")\n",
    "    \n",
    "    label = np.zeros((X.shape[0],1),dtype=np.int8)\n",
    "    for i in range(len(valid_new_list)/2):\n",
    "        label[valid_new_list[2*i]:valid_new_list[2*i+1]] =1\n",
    "    return X,label"
   ]
  },
  {
   "cell_type": "code",
   "execution_count": 6,
   "metadata": {},
   "outputs": [
    {
     "name": "stdout",
     "output_type": "stream",
     "text": [
      "(4861L, 2048L)\n"
     ]
    }
   ],
   "source": [
    "a = valid_database.keys()\n",
    "x_train,y_train = generater_dataset(a[0])\n",
    "x_test,y_test = generater_dataset(a[100])\n",
    "print x_train.shape"
   ]
  },
  {
   "cell_type": "code",
   "execution_count": 7,
   "metadata": {
    "collapsed": true
   },
   "outputs": [],
   "source": [
    "from sklearn.linear_model import LogisticRegression\n",
    "from sklearn.preprocessing import StandardScaler\n",
    "from sklearn.model_selection import train_test_split\n",
    "import numpy as np"
   ]
  },
  {
   "cell_type": "code",
   "execution_count": 8,
   "metadata": {
    "scrolled": true
   },
   "outputs": [
    {
     "name": "stdout",
     "output_type": "stream",
     "text": [
      "[[0 0]\n",
      " [0 0]\n",
      " [1 0]\n",
      " ..., \n",
      " [0 0]\n",
      " [0 0]\n",
      " [0 0]]\n",
      "测试集准确率：39.4663480685%\n"
     ]
    }
   ],
   "source": [
    "y_train = y_train.ravel()\n",
    "y_test =  y_test.ravel()\n",
    "# 归一化\n",
    "scaler = StandardScaler()\n",
    "scaler.fit(x_train)\n",
    "x_train = scaler.fit_transform(x_train)\n",
    "x_test = scaler.fit_transform(x_test)\n",
    "\n",
    "# 逻辑回归\n",
    "model = LogisticRegression()\n",
    "model.fit(x_train, y_train)\n",
    "\n",
    "# 预测\n",
    "predict = model.predict(x_test)\n",
    "right = sum(predict == y_test)\n",
    "\n",
    "predict = np.hstack((predict.reshape(-1, 1), y_test.reshape(-1, 1)))  # 将预测值和真实值放在一块，好观察\n",
    "print(predict)\n",
    "print('测试集准确率：%s%%' % (right * 100.0 / predict.shape[0]))  # 计算在测试集上的准确度"
   ]
  },
  {
   "cell_type": "markdown",
   "metadata": {},
   "source": [
    "## 效果不是很准，感觉需要修正这里啊。预测没法看了"
   ]
  },
  {
   "cell_type": "code",
   "execution_count": null,
   "metadata": {},
   "outputs": [],
   "source": [
    "predict[:,0].shape,y_test.shape"
   ]
  },
  {
   "cell_type": "code",
   "execution_count": 13,
   "metadata": {
    "collapsed": true
   },
   "outputs": [],
   "source": [
    "predict_origin = model.predict(x_test)"
   ]
  },
  {
   "cell_type": "code",
   "execution_count": 15,
   "metadata": {},
   "outputs": [
    {
     "name": "stdout",
     "output_type": "stream",
     "text": [
      "0\n"
     ]
    }
   ],
   "source": [
    "print predict_origin[0]"
   ]
  },
  {
   "cell_type": "code",
   "execution_count": 12,
   "metadata": {
    "scrolled": true
   },
   "outputs": [
    {
     "data": {
      "text/plain": [
       "3080"
      ]
     },
     "execution_count": 12,
     "metadata": {},
     "output_type": "execute_result"
    },
    {
     "data": {
      "image/png": "[encoded data removed]",
      "text/plain": [
       "<matplotlib.figure.Figure at 0x26674080>"
      ]
     },
     "metadata": {},
     "output_type": "display_data"
    }
   ],
   "source": [
    "predict_data = predict[:,0]\n",
    "plt.plot(y_test)\n",
    "y_test.sum()\n",
    "predict_data.sum()"
   ]
  },
  {
   "cell_type": "markdown",
   "metadata": {},
   "source": [
    "# 看到这里我们的预测基本为0.没有好预测。。。\n",
    "提高这里的预测是这里需要解决的地方"
   ]
  },
  {
   "cell_type": "code",
   "execution_count": 37,
   "metadata": {},
   "outputs": [
    {
     "data": {
      "text/plain": [
       "[<matplotlib.lines.Line2D at 0x2dae8278>]"
      ]
     },
     "execution_count": 37,
     "metadata": {},
     "output_type": "execute_result"
    },
    {
     "data": {
      "image/png": "[encoded data removed]",
      "text/plain": [
       "<matplotlib.figure.Figure at 0x2c5abf60>"
      ]
     },
     "metadata": {},
     "output_type": "display_data"
    }
   ],
   "source": [
    "plt.plot(predict_data)"
   ]
  },
  {
   "cell_type": "code",
   "execution_count": 16,
   "metadata": {
    "collapsed": true
   },
   "outputs": [],
   "source": [
    "import matplotlib.pyplot as plt\n",
    "import numpy as np\n",
    "import scipy.io as sio\n",
    "import matplotlib\n",
    "import scipy.optimize as opt\n",
    "% matplotlib inline"
   ]
  },
  {
   "cell_type": "code",
   "execution_count": null,
   "metadata": {
    "collapsed": true
   },
   "outputs": [],
   "source": [
    "DATA_DIR_TEST = \"D:/dataset/paddle/test/\"\n",
    "def generater_dataset_test(file_name):\n",
    "    file_name_path = os.path.join(DATA_DIR_TEST,str(file_name)+\".pkl\")\n",
    "    X = np.load(file_name_path)\n",
    "    X = np.array(X)\n",
    "    return X"
   ]
  },
  {
   "cell_type": "code",
   "execution_count": null,
   "metadata": {},
   "outputs": [],
   "source": [
    "def generater_score():\n",
    "    new_list = []\n",
    "    threshold = 0.0\n",
    "    \n",
    "    proposal_data = {'results': {}, 'version': \"VERSION 1.0\"}\n",
    "    \n",
    "    for test_video_name in test_database.keys():\n",
    "        pre_seg = []\n",
    "        this_vid_proposals = []\n",
    "        pre_i = 0\n",
    "        max_duration=300\n",
    "        min_duration=30\n",
    "        avg_nr_proposals = 10\n",
    "        \n",
    "        #print (test_video_name)\n",
    "        x_test = generater_dataset_test(test_video_name)\n",
    "        predict = model.predict(x_test)\n",
    "        for i in range(len(predict)):\n",
    "            if predict[i]==1 or threshold > 0.4:\n",
    "                new_list.append(predict[i])      \n",
    "                threshold = new_list.count(1)*1.0/len(new_list)\n",
    "\n",
    "                if len(new_list)> 30:\n",
    "                    if i-pre_i>1 and len(pre_seg)!=0:\n",
    "\n",
    "                        proposal = {\n",
    "                            'score': threshold,\n",
    "                            'segment': pre_seg,\n",
    "                           }\n",
    "                        this_vid_proposals += [proposal]\n",
    "\n",
    "                    pre_i = i\n",
    "                    pre_seg  = [pre_i-len(new_list),pre_i]\n",
    "            else:\n",
    "                new_list = []\n",
    "                threshold = 0.0\n",
    "        # 添加部分随机数据代替\n",
    "        if len(this_vid_proposals)  < 10:\n",
    "            video_duration = x_test.shape[0]\n",
    "            for _ in range(avg_nr_proposals):\n",
    "                # generate random proposal center, length, and score\n",
    "                center = video_duration*np.random.rand(1)[0]\n",
    "                length = (max_duration-min_duration)*np.random.rand(1)[0]+min_duration\n",
    "                proposal = {\n",
    "                            'score': np.random.rand(1)[0],\n",
    "                            'segment': [center - length/2., center + length/2.],\n",
    "                           }\n",
    "                this_vid_proposals += [proposal]\n",
    "            \n",
    "        proposal_data['results'][test_video_name] = this_vid_proposals\n",
    "    return proposal_data\n",
    "proposal_data =generater_score() "
   ]
  },
  {
   "cell_type": "code",
   "execution_count": null,
   "metadata": {
    "collapsed": true
   },
   "outputs": [],
   "source": [
    "import json\n",
    "subset = \"one_testing\"\n",
    "with open(\"D:/dataset/paddle/submit/uniform_random_proposals_\"+subset+\".json\", 'w') as fobj:\n",
    "    json.dump(proposal_data, fobj)"
   ]
  }
 ],
 "metadata": {
  "kernelspec": {
   "display_name": "Python 2",
   "language": "python",
   "name": "python2"
  },
  "language_info": {
   "codemirror_mode": {
    "name": "ipython",
    "version": 2
   },
   "file_extension": ".py",
   "mimetype": "text/x-python",
   "name": "python",
   "nbconvert_exporter": "python",
   "pygments_lexer": "ipython2",
   "version": "2.7.13"
  }
 },
 "nbformat": 4,
 "nbformat_minor": 2
}
