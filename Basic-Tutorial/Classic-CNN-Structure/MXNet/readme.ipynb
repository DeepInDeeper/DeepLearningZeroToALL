{
 "cells": [
  {
   "cell_type": "markdown",
   "metadata": {},
   "source": [
    "Here,we will show the classic `CNN` structures by using MXNet.Specailly thanks to @mli.More information we can get from [here](https://zh.gluon.ai/chapter_preface/index.html)(Chinese Versions)\n",
    "> Note: All model you can find in the `models` folder"
   ]
  },
  {
   "cell_type": "code",
   "execution_count": 1,
   "metadata": {},
   "outputs": [],
   "source": [
    "import mxnet as mx\n",
    "from mxnet import init\n",
    "from mxnet import nd\n",
    "\n",
    "# user model\n",
    "from models import MXNet_AlexNet,MXNet_ResNet,MXNet_VGG,MXNet_GoogLeNet,MXNet_DenseNet\n",
    "import utils"
   ]
  },
  {
   "cell_type": "markdown",
   "metadata": {},
   "source": [
    "In this part,we show you a `AlexNet` strtucture.Of course,you can change the name to show others"
   ]
  },
  {
   "cell_type": "code",
   "execution_count": 2,
   "metadata": {
    "collapsed": true
   },
   "outputs": [],
   "source": [
    "def get_net(ctx,num_class):\n",
    "    net = MXNet_AlexNet(num_class,verbose=True)\n",
    "    net.initialize(ctx=ctx,init=init.Xavier())\n",
    "    return net"
   ]
  },
  {
   "cell_type": "code",
   "execution_count": 3,
   "metadata": {
    "scrolled": false
   },
   "outputs": [
    {
     "name": "stdout",
     "output_type": "stream",
     "text": [
      "MXNet_AlexNet(\n",
      "  (net): HybridSequential(\n",
      "    (0): Conv2D(None -> 96, kernel_size=(11, 11), stride=(4, 4))\n",
      "    (1): MaxPool2D(size=(3, 3), stride=(2, 2), padding=(0, 0), ceil_mode=False)\n",
      "    (2): Conv2D(None -> 256, kernel_size=(5, 5), stride=(1, 1), padding=(2, 2))\n",
      "    (3): MaxPool2D(size=(3, 3), stride=(2, 2), padding=(0, 0), ceil_mode=False)\n",
      "    (4): Conv2D(None -> 384, kernel_size=(3, 3), stride=(1, 1), padding=(1, 1))\n",
      "    (5): Conv2D(None -> 384, kernel_size=(3, 3), stride=(1, 1), padding=(1, 1))\n",
      "    (6): Conv2D(None -> 256, kernel_size=(3, 3), stride=(1, 1), padding=(1, 1))\n",
      "    (7): MaxPool2D(size=(3, 3), stride=(2, 2), padding=(0, 0), ceil_mode=False)\n",
      "    (8): Flatten\n",
      "    (9): Dense(None -> 4096, Activation(relu))\n",
      "    (10): Dropout(p = 0.5)\n",
      "    (11): Dense(None -> 4096, Activation(relu))\n",
      "    (12): Dropout(p = 0.5)\n",
      "    (13): Dense(None -> 10, linear)\n",
      "  )\n",
      ")\n"
     ]
    }
   ],
   "source": [
    "ctx = utils.try_gpu()\n",
    "net = get_net(ctx,10)\n",
    "net.hybridize()\n",
    "print(net)"
   ]
  },
  {
   "cell_type": "markdown",
   "metadata": {},
   "source": [
    "In this part,you can get more specific shape after some blocks.  \n",
    "![img](./../../img/AlexNet.png)"
   ]
  },
  {
   "cell_type": "code",
   "execution_count": 5,
   "metadata": {},
   "outputs": [
    {
     "name": "stdout",
     "output_type": "stream",
     "text": [
      "Block 1 output: (4, 96, 55, 55)\n",
      "Block 2 output: (4, 96, 27, 27)\n",
      "Block 3 output: (4, 256, 27, 27)\n",
      "Block 4 output: (4, 256, 13, 13)\n",
      "Block 5 output: (4, 384, 13, 13)\n",
      "Block 6 output: (4, 384, 13, 13)\n",
      "Block 7 output: (4, 256, 13, 13)\n",
      "Block 8 output: (4, 256, 6, 6)\n",
      "Block 9 output: (4, 9216)\n",
      "Block 10 output: (4, 4096)\n",
      "Block 11 output: (4, 4096)\n",
      "Block 12 output: (4, 4096)\n",
      "Block 13 output: (4, 4096)\n",
      "Block 14 output: (4, 10)\n"
     ]
    }
   ],
   "source": [
    "net = MXNet_AlexNet(10, verbose=True)\n",
    "net.initialize()\n",
    "\n",
    "x = nd.random.uniform(shape=(4, 3, 227, 227))\n",
    "y = net(x)"
   ]
  },
  {
   "cell_type": "code",
   "execution_count": null,
   "metadata": {
    "collapsed": true
   },
   "outputs": [],
   "source": []
  }
 ],
 "metadata": {
  "kernelspec": {
   "display_name": "Python 3",
   "language": "python",
   "name": "python3"
  },
  "language_info": {
   "codemirror_mode": {
    "name": "ipython",
    "version": 3
   },
   "file_extension": ".py",
   "mimetype": "text/x-python",
   "name": "python",
   "nbconvert_exporter": "python",
   "pygments_lexer": "ipython3",
   "version": "3.6.2"
  }
 },
 "nbformat": 4,
 "nbformat_minor": 2
}
