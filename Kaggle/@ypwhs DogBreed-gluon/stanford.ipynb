{
 "cells": [
  {
   "cell_type": "markdown",
   "metadata": {},
   "source": [
    "# 载入必要的库"
   ]
  },
  {
   "cell_type": "code",
   "execution_count": 1,
   "metadata": {
    "collapsed": true
   },
   "outputs": [],
   "source": [
    "import mxnet as mx\n",
    "from mxnet import autograd\n",
    "from mxnet import gluon\n",
    "from mxnet import image\n",
    "from mxnet import init\n",
    "from mxnet import nd\n",
    "from mxnet.gluon import nn\n",
    "from mxnet.gluon.data import vision\n",
    "from mxnet.gluon.model_zoo import vision as models\n",
    "import numpy as np\n",
    "import pandas as pd\n",
    "from tqdm import tqdm\n",
    "import cv2\n",
    "import h5py\n",
    "import os\n",
    "\n",
    "import matplotlib.pyplot as plt\n",
    "\n",
    "%matplotlib inline\n",
    "%config InlineBackend.figure_format = 'retina'\n",
    "\n",
    "ctx = [mx.gpu(i) for i in range(1)] # 如果是单卡，需要修改这里\n",
    "\n",
    "df = pd.read_csv('D:/dataset/dogbreed/sample_submission.csv')\n",
    "synset = list(df.columns[1:])"
   ]
  },
  {
   "cell_type": "markdown",
   "metadata": {},
   "source": [
    "# 载入数据集"
   ]
  },
  {
   "cell_type": "code",
   "execution_count": 2,
   "metadata": {},
   "outputs": [
    {
     "name": "stderr",
     "output_type": "stream",
     "text": [
      "100%|████████████████████████████████████████████████████████████████████████████| 20580/20580 [07:13<00:00, 47.53it/s]\n"
     ]
    }
   ],
   "source": [
    "from glob import glob\n",
    "\n",
    "n = len(glob('D:/dataset/Stanford_dogbreed/images/Images/*/*.jpg'))\n",
    "X_224 = nd.zeros((n, 3, 224, 224))\n",
    "X_299 = nd.zeros((n, 3, 299, 299))\n",
    "y = nd.zeros((n,))\n",
    "\n",
    "mean = np.array([0.485, 0.456, 0.406])\n",
    "std = np.array([0.229, 0.224, 0.225])\n",
    "\n",
    "for i, file_name in tqdm(enumerate(glob('D:/dataset/Stanford_dogbreed/images/Images/*/*.jpg')), total=n):\n",
    "    img = cv2.imread(file_name)\n",
    "    img_224 = ((cv2.resize(img, (224, 224))[:,:,::-1] / 255.0 - mean) / std).transpose((2, 0, 1))\n",
    "    img_299 = ((cv2.resize(img, (299, 299))[:,:,::-1] / 255.0 - mean) / std).transpose((2, 0, 1))\n",
    "    \n",
    "    X_224[i] = nd.array(img_224)\n",
    "    X_299[i] = nd.array(img_299)\n",
    "    \n",
    "    y[i] = synset.index(file_name.split('\\\\')[1][10:].lower())\n",
    "    \n",
    "    nd.waitall()"
   ]
  },
  {
   "cell_type": "markdown",
   "metadata": {},
   "source": [
    "# 定义得到预训练模型特征的函数"
   ]
  },
  {
   "cell_type": "code",
   "execution_count": 3,
   "metadata": {
    "collapsed": true
   },
   "outputs": [],
   "source": [
    "def get_features(model_name, data_iter):\n",
    "    net = models.get_model(model_name, pretrained=True, ctx=ctx)\n",
    "    features = []\n",
    "    for data in tqdm(data_iter):\n",
    "        # 并行预测数据，如果是单卡，需要修改这里\n",
    "        for data_slice in gluon.utils.split_and_load(data, ctx, even_split=False):\n",
    "            feature = net.features(data_slice)\n",
    "            feature = gluon.nn.Flatten()(feature)\n",
    "            features.append(feature.as_in_context(mx.cpu()))\n",
    "        nd.waitall()\n",
    "\n",
    "    features = nd.concat(*features, dim=0)\n",
    "    return features"
   ]
  },
  {
   "cell_type": "markdown",
   "metadata": {},
   "source": [
    "# 计算几个预训练模型输出的特征并拼接起来"
   ]
  },
  {
   "cell_type": "code",
   "execution_count": 4,
   "metadata": {
    "collapsed": true
   },
   "outputs": [],
   "source": [
    "batch_size = 4\n",
    "\n",
    "data_iter_224 = gluon.data.DataLoader(gluon.data.ArrayDataset(X_224), batch_size=batch_size)\n",
    "data_iter_299 = gluon.data.DataLoader(gluon.data.ArrayDataset(X_299), batch_size=batch_size)"
   ]
  },
  {
   "cell_type": "code",
   "execution_count": 5,
   "metadata": {},
   "outputs": [
    {
     "name": "stderr",
     "output_type": "stream",
     "text": [
      "100%|██████████████████████████████████████████████████████████████████████████████| 5145/5145 [06:07<00:00, 13.99it/s]\n",
      "100%|██████████████████████████████████████████████████████████████████████████████| 5145/5145 [10:06<00:00,  9.36it/s]\n"
     ]
    }
   ],
   "source": [
    "model_names = ['inceptionv3', 'resnet152_v1']\n",
    "\n",
    "features = []\n",
    "for model_name in model_names:\n",
    "    if model_name == 'inceptionv3':\n",
    "        features.append(get_features(model_name, data_iter_299))\n",
    "    else:\n",
    "        features.append(get_features(model_name, data_iter_224))"
   ]
  },
  {
   "cell_type": "code",
   "execution_count": 6,
   "metadata": {
    "collapsed": true
   },
   "outputs": [],
   "source": [
    "features = nd.concat(*features, dim=1)\n",
    "data_iter_train = gluon.data.DataLoader(gluon.data.ArrayDataset(features, y), batch_size, shuffle=True)"
   ]
  },
  {
   "cell_type": "markdown",
   "metadata": {},
   "source": [
    "# 定义一些函数"
   ]
  },
  {
   "cell_type": "code",
   "execution_count": 7,
   "metadata": {
    "collapsed": true
   },
   "outputs": [],
   "source": [
    "def build_model():\n",
    "    net = nn.Sequential()\n",
    "    with net.name_scope():\n",
    "        net.add(nn.BatchNorm())\n",
    "        net.add(nn.Dense(1024))\n",
    "        net.add(nn.BatchNorm())\n",
    "        net.add(nn.Activation('relu'))\n",
    "        net.add(nn.Dropout(0.5))\n",
    "        net.add(nn.Dense(120))\n",
    "\n",
    "    net.initialize(ctx=ctx)\n",
    "    return net"
   ]
  },
  {
   "cell_type": "code",
   "execution_count": 8,
   "metadata": {
    "collapsed": true
   },
   "outputs": [],
   "source": [
    "ctx = mx.gpu() # 训练的时候为了简化计算，使用了单 GPU\n",
    "softmax_cross_entropy = gluon.loss.SoftmaxCrossEntropyLoss()\n",
    "\n",
    "def accuracy(output, labels):\n",
    "    return nd.mean(nd.argmax(output, axis=1) == labels).asscalar()\n",
    "\n",
    "def evaluate(net, data_iter):\n",
    "    loss, acc, n = 0., 0., 0.\n",
    "    steps = len(data_iter)\n",
    "    for data, label in data_iter:\n",
    "        data, label = data.as_in_context(ctx), label.as_in_context(ctx)\n",
    "        output = net(data)\n",
    "        acc += accuracy(output, label)\n",
    "        loss += nd.mean(softmax_cross_entropy(output, label)).asscalar()\n",
    "    return loss/steps, acc/steps"
   ]
  },
  {
   "cell_type": "markdown",
   "metadata": {},
   "source": [
    "# 训练模型"
   ]
  },
  {
   "cell_type": "code",
   "execution_count": 9,
   "metadata": {},
   "outputs": [
    {
     "name": "stdout",
     "output_type": "stream",
     "text": [
      "Epoch 1. loss: 0.9371, acc: 74.84%\n",
      "Epoch 2. loss: 0.4903, acc: 85.60%\n",
      "Epoch 3. loss: 0.4466, acc: 86.52%\n",
      "Epoch 4. loss: 0.4423, acc: 86.74%\n",
      "Epoch 5. loss: 0.4423, acc: 86.67%\n",
      "Epoch 6. loss: 0.4437, acc: 86.29%\n",
      "Epoch 7. loss: 0.4404, acc: 86.77%\n",
      "Epoch 8. loss: 0.4464, acc: 86.44%\n",
      "Epoch 9. loss: 0.4521, acc: 86.39%\n",
      "Epoch 10. loss: 0.4441, acc: 86.36%\n",
      "Epoch 11. loss: 0.4486, acc: 86.63%\n",
      "Epoch 12. loss: 0.4506, acc: 86.38%\n",
      "Epoch 13. loss: 0.4423, acc: 86.53%\n",
      "Epoch 14. loss: 0.4432, acc: 86.52%\n",
      "Epoch 15. loss: 0.4511, acc: 86.58%\n",
      "Epoch 16. loss: 0.4480, acc: 86.67%\n",
      "Epoch 17. loss: 0.4405, acc: 86.70%\n",
      "Epoch 18. loss: 0.4381, acc: 86.89%\n",
      "Epoch 19. loss: 0.4576, acc: 86.43%\n",
      "Epoch 20. loss: 0.4498, acc: 86.51%\n",
      "Epoch 21. loss: 0.4487, acc: 86.64%\n",
      "Epoch 22. loss: 0.4542, acc: 86.64%\n",
      "Epoch 23. loss: 0.4427, acc: 86.59%\n",
      "Epoch 24. loss: 0.4445, acc: 86.64%\n",
      "Epoch 25. loss: 0.4434, acc: 86.75%\n",
      "Epoch 26. loss: 0.4404, acc: 86.88%\n",
      "Epoch 27. loss: 0.4449, acc: 86.54%\n",
      "Epoch 28. loss: 0.4436, acc: 86.59%\n",
      "Epoch 29. loss: 0.4513, acc: 86.44%\n",
      "Epoch 30. loss: 0.4519, acc: 86.33%\n",
      "Epoch 31. loss: 0.4559, acc: 86.33%\n",
      "Epoch 32. loss: 0.4452, acc: 86.53%\n",
      "Epoch 33. loss: 0.4470, acc: 86.58%\n",
      "Epoch 34. loss: 0.4442, acc: 86.69%\n",
      "Epoch 35. loss: 0.4471, acc: 86.47%\n",
      "Epoch 36. loss: 0.4476, acc: 86.43%\n",
      "Epoch 37. loss: 0.4521, acc: 86.36%\n",
      "Epoch 38. loss: 0.4436, acc: 86.58%\n",
      "Epoch 39. loss: 0.4464, acc: 86.79%\n",
      "Epoch 40. loss: 0.4534, acc: 86.44%\n",
      "Epoch 41. loss: 0.4457, acc: 86.30%\n",
      "Epoch 42. loss: 0.4454, acc: 86.71%\n",
      "Epoch 43. loss: 0.4436, acc: 86.53%\n",
      "Epoch 44. loss: 0.4533, acc: 86.31%\n",
      "Epoch 45. loss: 0.4442, acc: 86.69%\n",
      "Epoch 46. loss: 0.4372, acc: 86.85%\n",
      "Epoch 47. loss: 0.4487, acc: 86.60%\n",
      "Epoch 48. loss: 0.4441, acc: 86.65%\n",
      "Epoch 49. loss: 0.4431, acc: 86.40%\n",
      "Epoch 50. loss: 0.4367, acc: 86.77%\n",
      "Epoch 51. loss: 0.4494, acc: 86.58%\n",
      "Epoch 52. loss: 0.4325, acc: 86.94%\n",
      "Epoch 53. loss: 0.4450, acc: 86.42%\n",
      "Epoch 54. loss: 0.4501, acc: 86.24%\n",
      "Epoch 55. loss: 0.4558, acc: 86.38%\n",
      "Epoch 56. loss: 0.4524, acc: 86.48%\n",
      "Epoch 57. loss: 0.4426, acc: 86.50%\n",
      "Epoch 58. loss: 0.4436, acc: 86.41%\n",
      "Epoch 59. loss: 0.4403, acc: 86.50%\n",
      "Epoch 60. loss: 0.4392, acc: 86.83%\n",
      "Epoch 61. loss: 0.4540, acc: 86.22%\n",
      "Epoch 62. loss: 0.4423, acc: 86.60%\n",
      "Epoch 63. loss: 0.4568, acc: 86.15%\n",
      "Epoch 64. loss: 0.4400, acc: 86.74%\n",
      "Epoch 65. loss: 0.4380, acc: 86.61%\n",
      "Epoch 66. loss: 0.4435, acc: 86.90%\n",
      "Epoch 67. loss: 0.4367, acc: 86.94%\n",
      "Epoch 68. loss: 0.4412, acc: 86.51%\n",
      "Epoch 69. loss: 0.4502, acc: 86.32%\n",
      "Epoch 70. loss: 0.4463, acc: 86.62%\n",
      "Epoch 71. loss: 0.4460, acc: 86.60%\n",
      "Epoch 72. loss: 0.4444, acc: 86.55%\n",
      "Epoch 73. loss: 0.4394, acc: 86.67%\n",
      "Epoch 74. loss: 0.4431, acc: 86.57%\n",
      "Epoch 75. loss: 0.4410, acc: 86.40%\n",
      "Epoch 76. loss: 0.4574, acc: 86.31%\n",
      "Epoch 77. loss: 0.4404, acc: 86.76%\n",
      "Epoch 78. loss: 0.4521, acc: 86.41%\n",
      "Epoch 79. loss: 0.4437, acc: 86.49%\n",
      "Epoch 80. loss: 0.4461, acc: 86.53%\n",
      "Epoch 81. loss: 0.4383, acc: 86.66%\n",
      "Epoch 82. loss: 0.4423, acc: 86.46%\n",
      "Epoch 83. loss: 0.4400, acc: 86.81%\n",
      "Epoch 84. loss: 0.4427, acc: 86.67%\n",
      "Epoch 85. loss: 0.4472, acc: 86.57%\n",
      "Epoch 86. loss: 0.4380, acc: 86.71%\n",
      "Epoch 87. loss: 0.4423, acc: 86.69%\n",
      "Epoch 88. loss: 0.4401, acc: 86.71%\n",
      "Epoch 89. loss: 0.4530, acc: 86.22%\n",
      "Epoch 90. loss: 0.4495, acc: 86.67%\n",
      "Epoch 91. loss: 0.4485, acc: 86.64%\n",
      "Epoch 92. loss: 0.4461, acc: 86.24%\n",
      "Epoch 93. loss: 0.4454, acc: 86.67%\n",
      "Epoch 94. loss: 0.4338, acc: 87.12%\n",
      "Epoch 95. loss: 0.4399, acc: 86.64%\n",
      "Epoch 96. loss: 0.4461, acc: 86.92%\n",
      "Epoch 97. loss: 0.4375, acc: 86.87%\n",
      "Epoch 98. loss: 0.4408, acc: 86.67%\n",
      "Epoch 99. loss: 0.4408, acc: 86.45%\n",
      "Epoch 100. loss: 0.4463, acc: 86.65%\n"
     ]
    }
   ],
   "source": [
    "net = build_model()\n",
    "\n",
    "epochs = 100\n",
    "batch_size = 128\n",
    "lr_sch = mx.lr_scheduler.FactorScheduler(step=1500, factor=0.5)\n",
    "trainer = gluon.Trainer(net.collect_params(), 'adam', \n",
    "                        {'learning_rate': 1e-3, 'lr_scheduler': lr_sch})\n",
    "\n",
    "for epoch in range(epochs):\n",
    "    train_loss = 0.\n",
    "    train_acc = 0.\n",
    "    steps = len(data_iter_train)\n",
    "    for data, label in data_iter_train:\n",
    "        data, label = data.as_in_context(ctx), label.as_in_context(ctx)\n",
    "        with autograd.record():\n",
    "            output = net(data)\n",
    "            loss = softmax_cross_entropy(output, label)\n",
    "\n",
    "        loss.backward()\n",
    "        trainer.step(batch_size)\n",
    "\n",
    "        train_loss += nd.mean(loss).asscalar()\n",
    "        train_acc += accuracy(output, label)\n",
    "\n",
    "    print(\"Epoch %d. loss: %.4f, acc: %.2f%%\" % (epoch+1, train_loss/steps, train_acc/steps*100))"
   ]
  },
  {
   "cell_type": "markdown",
   "metadata": {},
   "source": [
    "# 计算在训练集上的 loss 和准确率"
   ]
  },
  {
   "cell_type": "code",
   "execution_count": 10,
   "metadata": {},
   "outputs": [
    {
     "data": {
      "text/plain": [
       "(0.19941858542896465, 0.93595724003887271)"
      ]
     },
     "execution_count": 10,
     "metadata": {},
     "output_type": "execute_result"
    }
   ],
   "source": [
    "evaluate(net, data_iter_train)"
   ]
  },
  {
   "cell_type": "markdown",
   "metadata": {},
   "source": [
    "# 读取之前导出的测试集特征"
   ]
  },
  {
   "cell_type": "code",
   "execution_count": 11,
   "metadata": {},
   "outputs": [],
   "source": [
    "features_test = [nd.load('features_test_%s.nd' % model_name)[0] for model_name in model_names]\n",
    "features_test = nd.concat(*features_test, dim=1)"
   ]
  },
  {
   "cell_type": "markdown",
   "metadata": {},
   "source": [
    "# 预测并输出到 csv 文件"
   ]
  },
  {
   "cell_type": "code",
   "execution_count": 12,
   "metadata": {
    "collapsed": true
   },
   "outputs": [],
   "source": [
    "output = nd.softmax(net(features_test.as_in_context(ctx))).asnumpy()"
   ]
  },
  {
   "cell_type": "code",
   "execution_count": 14,
   "metadata": {},
   "outputs": [],
   "source": [
    "df_pred = pd.read_csv('D:/dataset/dogbreed/sample_submission.csv')\n",
    "\n",
    "for i, c in enumerate(df_pred.columns[1:]):\n",
    "    df_pred[c] = output[:,i]\n",
    "\n",
    "df_pred.to_csv('pred_stan.csv', index=None)"
   ]
  },
  {
   "cell_type": "markdown",
   "metadata": {},
   "source": [
    "# 和之前的提交进行对比，确认没有错位"
   ]
  },
  {
   "cell_type": "code",
   "execution_count": 15,
   "metadata": {},
   "outputs": [
    {
     "ename": "TypeError",
     "evalue": "'zip' object is not subscriptable",
     "output_type": "error",
     "traceback": [
      "\u001b[1;31m---------------------------------------------------------------------------\u001b[0m",
      "\u001b[1;31mTypeError\u001b[0m                                 Traceback (most recent call last)",
      "\u001b[1;32m<ipython-input-15-0ad3a579572f>\u001b[0m in \u001b[0;36m<module>\u001b[1;34m()\u001b[0m\n\u001b[1;32m----> 1\u001b[1;33m \u001b[0mzip\u001b[0m\u001b[1;33m(\u001b[0m\u001b[0mnp\u001b[0m\u001b[1;33m.\u001b[0m\u001b[0margmax\u001b[0m\u001b[1;33m(\u001b[0m\u001b[0mpd\u001b[0m\u001b[1;33m.\u001b[0m\u001b[0mread_csv\u001b[0m\u001b[1;33m(\u001b[0m\u001b[1;34m'pred.csv'\u001b[0m\u001b[1;33m)\u001b[0m\u001b[1;33m.\u001b[0m\u001b[0mvalues\u001b[0m\u001b[1;33m[\u001b[0m\u001b[1;33m:\u001b[0m\u001b[1;33m,\u001b[0m\u001b[1;36m1\u001b[0m\u001b[1;33m:\u001b[0m\u001b[1;33m]\u001b[0m\u001b[1;33m,\u001b[0m \u001b[0maxis\u001b[0m\u001b[1;33m=\u001b[0m\u001b[1;33m-\u001b[0m\u001b[1;36m1\u001b[0m\u001b[1;33m)\u001b[0m\u001b[1;33m,\u001b[0m \u001b[0mnp\u001b[0m\u001b[1;33m.\u001b[0m\u001b[0margmax\u001b[0m\u001b[1;33m(\u001b[0m\u001b[0mdf_pred\u001b[0m\u001b[1;33m.\u001b[0m\u001b[0mvalues\u001b[0m\u001b[1;33m[\u001b[0m\u001b[1;33m:\u001b[0m\u001b[1;33m,\u001b[0m\u001b[1;36m1\u001b[0m\u001b[1;33m:\u001b[0m\u001b[1;33m]\u001b[0m\u001b[1;33m,\u001b[0m \u001b[0maxis\u001b[0m\u001b[1;33m=\u001b[0m\u001b[1;33m-\u001b[0m\u001b[1;36m1\u001b[0m\u001b[1;33m)\u001b[0m\u001b[1;33m)\u001b[0m\u001b[1;33m[\u001b[0m\u001b[1;33m:\u001b[0m\u001b[1;36m10\u001b[0m\u001b[1;33m]\u001b[0m\u001b[1;33m\u001b[0m\u001b[0m\n\u001b[0m",
      "\u001b[1;31mTypeError\u001b[0m: 'zip' object is not subscriptable"
     ]
    }
   ],
   "source": [
    "zip(np.argmax(pd.read_csv('pred.csv').values[:,1:], axis=-1), np.argmax(df_pred.values[:,1:], axis=-1))[:10]"
   ]
  },
  {
   "cell_type": "markdown",
   "metadata": {},
   "source": [
    "# 压缩为 zip 文件"
   ]
  },
  {
   "cell_type": "code",
   "execution_count": null,
   "metadata": {
    "collapsed": true
   },
   "outputs": [],
   "source": [
    "!rm pred.zip\n",
    "!zip pred.zip pred.csv"
   ]
  },
  {
   "cell_type": "code",
   "execution_count": null,
   "metadata": {
    "collapsed": true
   },
   "outputs": [],
   "source": []
  }
 ],
 "metadata": {
  "kernelspec": {
   "display_name": "Python 3",
   "language": "python",
   "name": "python3"
  },
  "language_info": {
   "codemirror_mode": {
    "name": "ipython",
    "version": 3
   },
   "file_extension": ".py",
   "mimetype": "text/x-python",
   "name": "python",
   "nbconvert_exporter": "python",
   "pygments_lexer": "ipython3",
   "version": "3.6.2"
  }
 },
 "nbformat": 4,
 "nbformat_minor": 2
}
