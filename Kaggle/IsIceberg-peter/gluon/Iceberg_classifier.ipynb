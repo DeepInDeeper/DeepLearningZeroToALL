{
 "cells": [
  {
   "cell_type": "markdown",
   "metadata": {
    "collapsed": true
   },
   "source": [
    "## 使用gluon 进行冰川识别\n",
    "kaggle 冰川比赛[链接](https://www.kaggle.com/c/statoil-iceberg-classifier-challenge)"
   ]
  },
  {
   "cell_type": "code",
   "execution_count": 1,
   "metadata": {
    "collapsed": true
   },
   "outputs": [],
   "source": [
    "import numpy as np\n",
    "import pandas as pd\n",
    "from sklearn.model_selection import train_test_split\n",
    "from subprocess import check_output\n",
    "from matplotlib import pyplot as plt\n",
    "\n",
    "%matplotlib inline"
   ]
  },
  {
   "cell_type": "markdown",
   "metadata": {},
   "source": [
    "## 加载数据，并显示数据"
   ]
  },
  {
   "cell_type": "code",
<<<<<<< HEAD
   "execution_count": null,
   "metadata": {
    "collapsed": true
   },
   "outputs": [],
=======
   "execution_count": 2,
   "metadata": {},
   "outputs": [
    {
     "name": "stdout",
     "output_type": "stream",
     "text": [
      "1604\n"
     ]
    }
   ],
>>>>>>> 0745b9b7a81cc3e9eda548d2497a7f485a96fd98
   "source": [
    "data_path = 'D:/dataset/kaggle_Iceberg/'\n",
    "train_path = data_path + \"train.json\"\n",
    "test_path  = data_path + \"test.json\"\n",
    "train_json = pd.read_json(train_path)\n",
    "test_json = pd.read_json(test_path)\n",
    "train_json['inc_angle'] = pd.to_numeric(train_json['inc_angle'], errors='coerce')\n",
    "test_json['inc_angle'] = pd.to_numeric(test_json['inc_angle'], errors='coerce')\n",
    "print (len(train_json))"
   ]
  },
  {
   "cell_type": "code",
<<<<<<< HEAD
   "execution_count": null,
   "metadata": {
    "collapsed": true
   },
   "outputs": [],
=======
   "execution_count": 3,
   "metadata": {},
   "outputs": [
    {
     "name": "stdout",
     "output_type": "stream",
     "text": [
      "Train Records\n"
     ]
    },
    {
     "data": {
      "text/html": [
       "<div>\n",
       "<style>\n",
       "    .dataframe thead tr:only-child th {\n",
       "        text-align: right;\n",
       "    }\n",
       "\n",
       "    .dataframe thead th {\n",
       "        text-align: left;\n",
       "    }\n",
       "\n",
       "    .dataframe tbody tr th {\n",
       "        vertical-align: top;\n",
       "    }\n",
       "</style>\n",
       "<table border=\"1\" class=\"dataframe\">\n",
       "  <thead>\n",
       "    <tr style=\"text-align: right;\">\n",
       "      <th></th>\n",
       "      <th>band_1</th>\n",
       "      <th>band_2</th>\n",
       "      <th>id</th>\n",
       "      <th>inc_angle</th>\n",
       "      <th>is_iceberg</th>\n",
       "    </tr>\n",
       "  </thead>\n",
       "  <tbody>\n",
       "    <tr>\n",
       "      <th>0</th>\n",
       "      <td>[-27.878361, -27.15416, -28.668615, -29.537971...</td>\n",
       "      <td>[-27.154118, -29.537888, -31.0306, -32.190483,...</td>\n",
       "      <td>dfd5f913</td>\n",
       "      <td>43.9239</td>\n",
       "      <td>0</td>\n",
       "    </tr>\n",
       "    <tr>\n",
       "      <th>1</th>\n",
       "      <td>[-12.242375, -14.920305, -14.920363, -12.66633...</td>\n",
       "      <td>[-31.506321, -27.984554, -26.645678, -23.76760...</td>\n",
       "      <td>e25388fd</td>\n",
       "      <td>38.1562</td>\n",
       "      <td>0</td>\n",
       "    </tr>\n",
       "    <tr>\n",
       "      <th>2</th>\n",
       "      <td>[-24.603676, -24.603714, -24.871029, -23.15277...</td>\n",
       "      <td>[-24.870956, -24.092632, -20.653963, -19.41104...</td>\n",
       "      <td>58b2aaa0</td>\n",
       "      <td>45.2859</td>\n",
       "      <td>1</td>\n",
       "    </tr>\n",
       "    <tr>\n",
       "      <th>3</th>\n",
       "      <td>[-22.454607, -23.082819, -23.998013, -23.99805...</td>\n",
       "      <td>[-27.889421, -27.519794, -27.165262, -29.10350...</td>\n",
       "      <td>4cfc3a18</td>\n",
       "      <td>43.8306</td>\n",
       "      <td>0</td>\n",
       "    </tr>\n",
       "    <tr>\n",
       "      <th>4</th>\n",
       "      <td>[-26.006956, -23.164886, -23.164886, -26.89116...</td>\n",
       "      <td>[-27.206915, -30.259186, -30.259186, -23.16495...</td>\n",
       "      <td>271f93f4</td>\n",
       "      <td>35.6256</td>\n",
       "      <td>0</td>\n",
       "    </tr>\n",
       "  </tbody>\n",
       "</table>\n",
       "</div>"
      ],
      "text/plain": [
       "                                              band_1  \\\n",
       "0  [-27.878361, -27.15416, -28.668615, -29.537971...   \n",
       "1  [-12.242375, -14.920305, -14.920363, -12.66633...   \n",
       "2  [-24.603676, -24.603714, -24.871029, -23.15277...   \n",
       "3  [-22.454607, -23.082819, -23.998013, -23.99805...   \n",
       "4  [-26.006956, -23.164886, -23.164886, -26.89116...   \n",
       "\n",
       "                                              band_2        id  inc_angle  \\\n",
       "0  [-27.154118, -29.537888, -31.0306, -32.190483,...  dfd5f913    43.9239   \n",
       "1  [-31.506321, -27.984554, -26.645678, -23.76760...  e25388fd    38.1562   \n",
       "2  [-24.870956, -24.092632, -20.653963, -19.41104...  58b2aaa0    45.2859   \n",
       "3  [-27.889421, -27.519794, -27.165262, -29.10350...  4cfc3a18    43.8306   \n",
       "4  [-27.206915, -30.259186, -30.259186, -23.16495...  271f93f4    35.6256   \n",
       "\n",
       "   is_iceberg  \n",
       "0           0  \n",
       "1           0  \n",
       "2           1  \n",
       "3           0  \n",
       "4           0  "
      ]
     },
     "execution_count": 3,
     "metadata": {},
     "output_type": "execute_result"
    }
   ],
>>>>>>> 0745b9b7a81cc3e9eda548d2497a7f485a96fd98
   "source": [
    "print(\"Train Records\")\n",
    "train_json.head()\n"
   ]
  },
  {
   "cell_type": "code",
<<<<<<< HEAD
   "execution_count": null,
   "metadata": {
    "collapsed": true
   },
   "outputs": [],
=======
   "execution_count": 4,
   "metadata": {},
   "outputs": [
    {
     "name": "stdout",
     "output_type": "stream",
     "text": [
      "Test Records\n"
     ]
    },
    {
     "data": {
      "text/html": [
       "<div>\n",
       "<style>\n",
       "    .dataframe thead tr:only-child th {\n",
       "        text-align: right;\n",
       "    }\n",
       "\n",
       "    .dataframe thead th {\n",
       "        text-align: left;\n",
       "    }\n",
       "\n",
       "    .dataframe tbody tr th {\n",
       "        vertical-align: top;\n",
       "    }\n",
       "</style>\n",
       "<table border=\"1\" class=\"dataframe\">\n",
       "  <thead>\n",
       "    <tr style=\"text-align: right;\">\n",
       "      <th></th>\n",
       "      <th>band_1</th>\n",
       "      <th>band_2</th>\n",
       "      <th>id</th>\n",
       "      <th>inc_angle</th>\n",
       "    </tr>\n",
       "  </thead>\n",
       "  <tbody>\n",
       "    <tr>\n",
       "      <th>0</th>\n",
       "      <td>[-15.863251, -15.201077, -17.887735, -19.17248...</td>\n",
       "      <td>[-21.629612, -21.142353, -23.908337, -28.34524...</td>\n",
       "      <td>5941774d</td>\n",
       "      <td>34.966400</td>\n",
       "    </tr>\n",
       "    <tr>\n",
       "      <th>1</th>\n",
       "      <td>[-26.0589694977, -26.0589694977, -26.058969497...</td>\n",
       "      <td>[-25.7542076111, -25.7542076111, -25.754207611...</td>\n",
       "      <td>4023181e</td>\n",
       "      <td>32.615072</td>\n",
       "    </tr>\n",
       "    <tr>\n",
       "      <th>2</th>\n",
       "      <td>[-14.1410999298, -15.0642414093, -17.375520706...</td>\n",
       "      <td>[-14.745639801, -14.5904102325, -14.3626976013...</td>\n",
       "      <td>b20200e4</td>\n",
       "      <td>37.505433</td>\n",
       "    </tr>\n",
       "    <tr>\n",
       "      <th>3</th>\n",
       "      <td>[-12.167478, -13.706167, -16.54837, -13.572674...</td>\n",
       "      <td>[-24.32222, -26.375538, -24.096739, -23.8769, ...</td>\n",
       "      <td>e7f018bb</td>\n",
       "      <td>34.473900</td>\n",
       "    </tr>\n",
       "    <tr>\n",
       "      <th>4</th>\n",
       "      <td>[-23.3745937347, -26.0271816254, -28.121963501...</td>\n",
       "      <td>[-25.7223434448, -27.0115776062, -23.149162292...</td>\n",
       "      <td>4371c8c3</td>\n",
       "      <td>43.918874</td>\n",
       "    </tr>\n",
       "  </tbody>\n",
       "</table>\n",
       "</div>"
      ],
      "text/plain": [
       "                                              band_1  \\\n",
       "0  [-15.863251, -15.201077, -17.887735, -19.17248...   \n",
       "1  [-26.0589694977, -26.0589694977, -26.058969497...   \n",
       "2  [-14.1410999298, -15.0642414093, -17.375520706...   \n",
       "3  [-12.167478, -13.706167, -16.54837, -13.572674...   \n",
       "4  [-23.3745937347, -26.0271816254, -28.121963501...   \n",
       "\n",
       "                                              band_2        id  inc_angle  \n",
       "0  [-21.629612, -21.142353, -23.908337, -28.34524...  5941774d  34.966400  \n",
       "1  [-25.7542076111, -25.7542076111, -25.754207611...  4023181e  32.615072  \n",
       "2  [-14.745639801, -14.5904102325, -14.3626976013...  b20200e4  37.505433  \n",
       "3  [-24.32222, -26.375538, -24.096739, -23.8769, ...  e7f018bb  34.473900  \n",
       "4  [-25.7223434448, -27.0115776062, -23.149162292...  4371c8c3  43.918874  "
      ]
     },
     "execution_count": 4,
     "metadata": {},
     "output_type": "execute_result"
    }
   ],
>>>>>>> 0745b9b7a81cc3e9eda548d2497a7f485a96fd98
   "source": [
    "print(\"Test Records\")\n",
    "test_json.head()"
   ]
  },
  {
   "cell_type": "markdown",
   "metadata": {},
   "source": [
    "## 数据增强部分\n",
    "这里使用了skimage进行图像处理  \n",
    "对训练数据进行随机裁剪和镜像"
   ]
  },
  {
   "cell_type": "code",
   "execution_count": 5,
   "metadata": {
    "collapsed": true
   },
   "outputs": [],
   "source": [
    "from scipy.ndimage import gaussian_filter\n",
    "from skimage import img_as_float\n",
    "from skimage.morphology import reconstruction\n",
    "# Isolation function.\n",
    "def iso(arr):\n",
    "    image = img_as_float(np.reshape(np.array(arr), [75,75]))\n",
    "    image = gaussian_filter(image,2)\n",
    "    seed = np.copy(image)\n",
    "    seed[1:-1, 1:-1] = image.min()\n",
    "    mask = image \n",
    "    dilated = reconstruction(seed, mask, method='dilation')\n",
    "    return image-dilated\n",
    "\n",
    "# Feature engineering iso1 and iso2.\n",
    "train_json['iso1'] = train_json.iloc[:, 0].apply(iso)\n",
    "train_json['iso2'] = train_json.iloc[:, 1].apply(iso)\n",
    "\n",
    "test_json['iso1'] = test_json.iloc[:, 0].apply(iso)\n",
    "test_json['iso2'] = test_json.iloc[:, 1].apply(iso)"
   ]
  },
  {
   "cell_type": "code",
   "execution_count": 6,
   "metadata": {
    "collapsed": true
   },
   "outputs": [],
   "source": [
    "from mxnet import autograd\n",
    "from mxnet import gluon\n",
    "from mxnet import image\n",
    "from mxnet import init\n",
    "from mxnet import nd\n",
    "from mxnet.gluon.data import vision\n",
    "\n",
    "def data_norm(data):\n",
    "    images = []\n",
    "    for i,row in data.iterrows():\n",
    "        band_1 = np.reshape(np.array(row[\"iso1\"]).astype(np.float32),(75,75))\n",
    "        band_2 = np.reshape(np.array(row[\"iso2\"]).astype(np.float32),(75,75))\n",
    "        #band_3 = (band_1+band_2)/2\n",
    "\n",
    "        band_1_norm = (band_1-band_1.mean())/( band_1.max()-band_1.min() )\n",
    "        band_2_norm = (band_2-band_2.mean() )/ (band_2.max()-band_2.min())\n",
    "        #band_3_norm = band_3 / band_3.max() \n",
    "        images.append(np.stack((band_1_norm,band_2_norm)))\n",
    "    return np.array(images)\n",
    "\n",
    "def transform_train(data):\n",
    "    data = nd.array(data)\n",
    "    #data = (data-data.min())/(data.max()-data.min())\n",
    "    auglist = image.CreateAugmenter(data_shape=(3, 75, 75), resize=0, \n",
    "                        rand_crop=True, rand_resize=True, rand_mirror=True,\n",
    "                        brightness=0, contrast=0, \n",
    "                        saturation=0, hue=0, \n",
    "                        pca_noise=0, rand_gray=0, inter_method=2)\n",
    "    \n",
    "    for i in range(data.shape[0]):\n",
    "        im = data[i,:]\n",
    "        for aug in auglist:\n",
    "            data[i,:] = aug(data[i,:])\n",
    "    return data.asnumpy()\n",
    "\n",
    "def transform_test(data):\n",
    "    data = nd.array(data)\n",
    "    auglist = image.CreateAugmenter(data_shape=(3, 75, 75))\n",
    "    for i in range(data.shape[0]):\n",
    "        for aug in auglist:\n",
    "            data[i,:] = aug(data[i,:])\n",
    "    return data.asnumpy()\n",
    "\n",
    "def aug_img (data,aug_method):\n",
    "    dataset = data_norm(data)\n",
    "    dataset = np.transpose(dataset, (0,3,2,1))\n",
    "    if aug_method == \"train\":\n",
    "        dataset = transform_train(dataset) \n",
    "    elif aug_method == \"test\":\n",
    "        dataset = transform_test(dataset)\n",
    "    dataset = np.transpose(dataset, (0,3,2,1))\n",
    "    return dataset"
   ]
  },
  {
   "cell_type": "code",
   "execution_count": 7,
   "metadata": {
    "collapsed": true
   },
   "outputs": [],
   "source": [
    "# X_train_total = aug_img(train_json,\"train\")\n",
    "X_train_total = data_norm(train_json)\n",
    "y_train_total = np.array(train_json['is_iceberg'])\n",
    "X_angle_train_total = np.array(train_json.inc_angle)\n",
    "\n",
    "# X_test = aug_img(test_json,\"test\")\n",
    "X_test = data_norm(test_json)\n",
    "X_angle_test = np.array(test_json.inc_angle)\n"
   ]
  },
  {
   "cell_type": "code",
<<<<<<< HEAD
   "execution_count": null,
   "metadata": {
    "collapsed": true
   },
   "outputs": [],
=======
   "execution_count": 8,
   "metadata": {},
   "outputs": [
    {
     "name": "stdout",
     "output_type": "stream",
     "text": [
      "(1604L, 2L, 75L, 75L)\n",
      "(-0.10679642, 0.99215782)\n"
     ]
    }
   ],
>>>>>>> 0745b9b7a81cc3e9eda548d2497a7f485a96fd98
   "source": [
    "print X_train_total.shape\n",
    "print (X_train_total.min(),X_train_total.max())"
   ]
  },
  {
   "cell_type": "markdown",
   "metadata": {},
   "source": [
    "## 验证集"
   ]
  },
  {
   "cell_type": "code",
   "execution_count": 9,
   "metadata": {
    "collapsed": true
   },
   "outputs": [],
   "source": [
    "X_train, X_valid, X_angle_train, X_angle_valid, y_train, y_valid = train_test_split(X_train_total\n",
    "                    , X_angle_train_total, y_train_total, random_state=123, test_size=0.1)\n",
    "\n",
    "    \n",
    "\n",
    "y_test = np.zeros((X_test.shape[0],), dtype=np.int)\n",
    "\n",
    "train_ds = gluon.data.ArrayDataset(X_train, y_train)\n",
    "valid_ds = gluon.data.ArrayDataset(X_valid, y_valid)\n",
    "train_valid_ds = gluon.data.ArrayDataset(X_train_total,y_train_total)\n",
    "test_ds = gluon.data.ArrayDataset(X_test,y_test)"
   ]
  },
  {
   "cell_type": "code",
<<<<<<< HEAD
   "execution_count": null,
   "metadata": {
    "collapsed": true
   },
   "outputs": [],
=======
   "execution_count": 10,
   "metadata": {},
   "outputs": [
    {
     "name": "stdout",
     "output_type": "stream",
     "text": [
      "(1443L, 2L, 75L, 75L)\n"
     ]
    }
   ],
>>>>>>> 0745b9b7a81cc3e9eda548d2497a7f485a96fd98
   "source": [
    "print X_train.shape"
   ]
  },
  {
   "cell_type": "code",
   "execution_count": 11,
   "metadata": {
    "collapsed": true
   },
   "outputs": [],
   "source": [
    "batch_size = 128\n",
    "loader = gluon.data.DataLoader\n",
    "train_data = loader(train_ds, batch_size, shuffle=True, last_batch='keep')\n",
    "valid_data = loader(valid_ds, batch_size, shuffle=True, last_batch='keep')\n",
    "train_valid_data= loader(train_valid_ds, batch_size, shuffle=True, last_batch='keep')\n",
    "test_data = loader(test_ds,batch_size,shuffle = True,last_batch='keep')\n",
    "# 交叉熵损失函数。\n",
    "softmax_cross_entropy = gluon.loss.SoftmaxCrossEntropyLoss()"
   ]
  },
  {
   "cell_type": "markdown",
   "metadata": {},
   "source": [
    "### 训练模型\n"
   ]
  },
  {
   "cell_type": "code",
   "execution_count": 12,
   "metadata": {
<<<<<<< HEAD
    "collapsed": true,
    "scrolled": true
=======
    "collapsed": true
>>>>>>> 0745b9b7a81cc3e9eda548d2497a7f485a96fd98
   },
   "outputs": [],
   "source": [
    "from mxnet.gluon import nn\n",
    "from mxnet import nd\n",
    "from mxnet import init\n",
    "\n",
    "## model\n",
    "class Conv(nn.HybridBlock):\n",
    "    \"\"\"docstring for Conv\"\"\"\n",
    "    def __init__(self, channels,kernel_size,pool_size,strides,dropout):\n",
    "        super(Conv, self).__init__()\n",
    "        with self.name_scope():\n",
    "            self.conv = nn.Conv2D(channels,kernel_size=kernel_size,activation=\"relu\")\n",
    "            self.bn = nn.BatchNorm()\n",
    "            self.pool = nn.MaxPool2D(pool_size=pool_size,strides=strides)\n",
    "            self.drop = nn.Dropout(dropout)\n",
    "\n",
    "    def hybrid_forward(self,F,x):\n",
    "        out = self.conv(x)\n",
    "        out = self.bn(out)\n",
    "        out = self.pool(out)\n",
    "        out = self.drop(out)\n",
    "        return out\n",
    "\n",
    "class MyModel(nn.HybridBlock):\n",
    "    \"\"\"docstring for MyModel\"\"\"\n",
    "    def __init__(self,num_outputs,verbose=False):\n",
    "        super(MyModel, self).__init__()\n",
    "        with self.name_scope():\n",
    "            self.verbose = verbose\n",
    "            net = self.net = nn.HybridSequential()\n",
    "\n",
    "            net.add(Conv(channels=8,kernel_size=3,pool_size=3,strides=2,dropout=0.2))\n",
    "            net.add(Conv(channels=16,kernel_size=3,pool_size=2,strides=2,dropout=0.2))\n",
    "            net.add(Conv(channels=32,kernel_size=3,pool_size=2,strides=2,dropout=0.3))\n",
    "            net.add(Conv(channels=64,kernel_size=3,pool_size=2,strides=2,dropout=0.3))\n",
    "\n",
    "            net.add(nn.Flatten())\n",
    "            net.add(nn.Dense(512))\n",
    "            net.add(nn.Dropout(0.2))\n",
    "            net.add(nn.Dense(256))\n",
    "            net.add(nn.Dropout(0.8))\n",
    "            net.add(nn.Dense(num_outputs))\n",
    "    def hybrid_forward(self,F,x):\n",
    "        out = x\n",
    "        for i,b in enumerate(self.net):\n",
    "            out = b(out)\n",
    "            if self.verbose:\n",
    "                print('Block %d output: %s'%(i+1, out.shape))\n",
    "            \n",
    "        return out\n",
    "\n",
    "def net_init(ctx):\n",
    "    num_outputs = 2\n",
    "    net = MyModel(num_outputs)\n",
    "    net.initialize(ctx=ctx, init=init.Xavier())\n",
    "    return net\n",
    "            "
   ]
  },
  {
   "cell_type": "code",
   "execution_count": 13,
   "metadata": {},
   "outputs": [
    {
     "name": "stdout",
     "output_type": "stream",
     "text": [
      "Block 1 output: (4L, 8L, 36L, 36L)\n",
      "Block 2 output: (4L, 16L, 17L, 17L)\n",
      "Block 3 output: (4L, 32L, 7L, 7L)\n",
      "Block 4 output: (4L, 64L, 2L, 2L)\n",
      "Block 5 output: (4L, 256L)\n",
      "Block 6 output: (4L, 512L)\n",
      "Block 7 output: (4L, 512L)\n",
      "Block 8 output: (4L, 256L)\n",
      "Block 9 output: (4L, 256L)\n",
      "Block 10 output: (4L, 2L)\n"
     ]
    }
   ],
   "source": [
    "net = MyModel(2, verbose=True)\n",
    "net.initialize()\n",
    "\n",
    "x = nd.random.uniform(shape=(4, 2, 75, 75))\n",
    "y = net(x)"
   ]
  },
  {
   "cell_type": "markdown",
   "metadata": {},
   "source": [
    "## 训练"
   ]
  },
  {
   "cell_type": "code",
   "execution_count": 14,
   "metadata": {
    "collapsed": true
   },
   "outputs": [],
   "source": [
    "import datetime\n",
    "import sys\n",
    "sys.path.append('..')\n",
    "import utils\n",
    "from matplotlib import pyplot as plt\n",
    "\n",
    "def get_loss(data, net, ctx):\n",
    "    loss = 0.0\n",
    "    for feas, label in data:\n",
    "        label = label.as_in_context(ctx)\n",
    "        output = net(feas.as_in_context(ctx))\n",
    "        cross_entropy = softmax_cross_entropy(output, label)\n",
    "        loss += nd.mean(cross_entropy).asscalar()\n",
    "    return loss / len(data)\n",
    "\n",
    "def train(net, train_data, valid_data, num_epochs, lr, wd, ctx, lr_period,\n",
    "          lr_decay):\n",
    "    loss = 10\n",
    "    trainer = gluon.Trainer(\n",
    "        net.collect_params(), 'sgd', {'learning_rate': lr, 'momentum': 0.9,\n",
    "                                      'wd': wd})\n",
    "    prev_time = datetime.datetime.now()\n",
    "    plt_train_loss = []\n",
    "    plt_valid_loss = []\n",
    "\n",
    "    for epoch in range(num_epochs):\n",
    "        train_loss = 0.0\n",
    "        if  epoch % lr_period == 0:\n",
    "            trainer.set_learning_rate(trainer.learning_rate * lr_decay)\n",
    "#         if epoch > 81 and epoch % 10 == 0:\n",
    "#             trainer.set_learning_rate(trainer.learning_rate * 0.1)\n",
    "        for data, label in train_data:\n",
    "            label = label.as_in_context(ctx)\n",
    "            with autograd.record():\n",
    "                output = net(data.as_in_context(ctx))\n",
    "                loss = softmax_cross_entropy(output, label)\n",
    "            loss.backward()\n",
    "            trainer.step(batch_size)\n",
    "            train_loss += nd.mean(loss).asscalar()\n",
    "        cur_time = datetime.datetime.now()\n",
    "        h, remainder = divmod((cur_time - prev_time).seconds, 3600)\n",
    "        m, s = divmod(remainder, 60)\n",
    "        time_str = \"Time %02d:%02d:%02d\" % (h, m, s)\n",
    "        if valid_data is not None:\n",
    "            valid_loss = get_loss(valid_data, net, ctx)\n",
    "            epoch_str = (\"Epoch %d. Train loss: %f, Valid loss %f, \"\n",
    "                         % (epoch, train_loss / len(train_data), valid_loss))\n",
    "            plt_train_loss.append(train_loss / len(train_data))\n",
    "            plt_valid_loss.append(valid_loss)\n",
    "            \n",
    "        else:\n",
    "            epoch_str = (\"Epoch %d. Train loss: %f, \"\n",
    "                         % (epoch, train_loss / len(train_data)))\n",
    "        prev_time = cur_time\n",
    "        if epoch % 10==0:\n",
    "            print(epoch_str + time_str + ', lr ' + str(trainer.learning_rate))\n",
    "\n",
    "    # plot \n",
    "    if valid_data is not None:\n",
    "        plt.plot(plt_train_loss)\n",
    "        plt.plot(plt_valid_loss)\n",
    "        plt.legend(['train_loss','test_loss'])\n",
    "        plt.savefig(\"Loss22.png\")\n"
   ]
  },
  {
   "cell_type": "code",
<<<<<<< HEAD
   "execution_count": null,
   "metadata": {
    "collapsed": true
   },
   "outputs": [],
=======
   "execution_count": 15,
   "metadata": {},
   "outputs": [
    {
     "name": "stdout",
     "output_type": "stream",
     "text": [
      "Epoch 0. Train loss: 1.979116, Valid loss 0.929206, Time 00:00:02, lr 0.001\n",
      "Epoch 10. Train loss: 0.753730, Valid loss 0.673117, Time 00:00:00, lr 0.001\n",
      "Epoch 20. Train loss: 0.619536, Valid loss 0.592850, Time 00:00:00, lr 0.001\n",
      "Epoch 30. Train loss: 0.547566, Valid loss 0.668911, Time 00:00:00, lr 0.001\n",
      "Epoch 40. Train loss: 0.521301, Valid loss 0.561388, Time 00:00:00, lr 0.001\n",
      "Epoch 50. Train loss: 0.524770, Valid loss 0.702797, Time 00:00:00, lr 0.001\n",
      "Epoch 60. Train loss: 0.488133, Valid loss 0.584948, Time 00:00:00, lr 0.001\n",
      "Epoch 70. Train loss: 0.481475, Valid loss 0.524040, Time 00:00:00, lr 0.001\n",
      "Epoch 80. Train loss: 0.464968, Valid loss 0.552277, Time 00:00:00, lr 0.001\n",
      "Epoch 90. Train loss: 0.452603, Valid loss 0.728788, Time 00:00:00, lr 0.001\n",
      "Epoch 100. Train loss: 0.443582, Valid loss 0.519990, Time 00:00:00, lr 0.001\n",
      "Epoch 110. Train loss: 0.414253, Valid loss 0.508046, Time 00:00:00, lr 0.001\n",
      "Epoch 120. Train loss: 0.425487, Valid loss 0.474174, Time 00:00:00, lr 0.001\n",
      "Epoch 130. Train loss: 0.423376, Valid loss 0.464644, Time 00:00:00, lr 0.001\n",
      "Epoch 140. Train loss: 0.400353, Valid loss 0.446576, Time 00:00:00, lr 0.001\n",
      "Epoch 150. Train loss: 0.389115, Valid loss 0.471688, Time 00:00:00, lr 0.001\n",
      "Epoch 160. Train loss: 0.404365, Valid loss 0.507921, Time 00:00:00, lr 0.001\n",
      "Epoch 170. Train loss: 0.405719, Valid loss 0.510756, Time 00:00:00, lr 0.001\n",
      "Epoch 180. Train loss: 0.386843, Valid loss 0.537347, Time 00:00:00, lr 0.001\n",
      "Epoch 190. Train loss: 0.387655, Valid loss 0.593374, Time 00:00:00, lr 0.001\n",
      "Epoch 200. Train loss: 0.391883, Valid loss 0.493074, Time 00:00:00, lr 0.001\n",
      "Epoch 210. Train loss: 0.362063, Valid loss 0.589746, Time 00:00:00, lr 0.001\n",
      "Epoch 220. Train loss: 0.361398, Valid loss 0.896505, Time 00:00:00, lr 0.001\n",
      "Epoch 230. Train loss: 0.370273, Valid loss 0.552900, Time 00:00:00, lr 0.001\n",
      "Epoch 240. Train loss: 0.349461, Valid loss 0.592456, Time 00:00:00, lr 0.001\n",
      "Epoch 250. Train loss: 0.346195, Valid loss 0.655260, Time 00:00:00, lr 0.001\n",
      "Epoch 260. Train loss: 0.355043, Valid loss 0.597298, Time 00:00:00, lr 0.001\n",
      "Epoch 270. Train loss: 0.338604, Valid loss 0.473688, Time 00:00:00, lr 0.001\n",
      "Epoch 280. Train loss: 0.333083, Valid loss 0.561774, Time 00:00:00, lr 0.001\n",
      "Epoch 290. Train loss: 0.347339, Valid loss 0.354612, Time 00:00:00, lr 0.001\n",
      "Epoch 300. Train loss: 0.326313, Valid loss 0.779941, Time 00:00:00, lr 0.001\n",
      "Epoch 310. Train loss: 0.298162, Valid loss 0.533608, Time 00:00:00, lr 0.001\n",
      "Epoch 320. Train loss: 0.329956, Valid loss 0.498877, Time 00:00:00, lr 0.001\n",
      "Epoch 330. Train loss: 0.294375, Valid loss 0.381303, Time 00:00:00, lr 0.001\n",
      "Epoch 340. Train loss: 0.300515, Valid loss 0.752432, Time 00:00:00, lr 0.001\n",
      "Epoch 350. Train loss: 0.334479, Valid loss 0.447576, Time 00:00:00, lr 0.001\n",
      "Epoch 360. Train loss: 0.286350, Valid loss 0.604162, Time 00:00:00, lr 0.001\n",
      "Epoch 370. Train loss: 0.312769, Valid loss 0.545740, Time 00:00:00, lr 0.001\n",
      "Epoch 380. Train loss: 0.319072, Valid loss 0.370173, Time 00:00:00, lr 0.001\n",
      "Epoch 390. Train loss: 0.275306, Valid loss 0.378070, Time 00:00:00, lr 0.001\n"
     ]
    },
    {
     "data": {
      "image/png": "iVBORw0KGgoAAAANSUhEUgAAAX4AAAD8CAYAAABw1c+bAAAABHNCSVQICAgIfAhkiAAAAAlwSFlz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\nPFuexjDMAAAAAElFTkSuQmCC\n",
      "text/plain": [
       "<matplotlib.figure.Figure at 0x19a8d6d8>"
      ]
     },
     "metadata": {},
     "output_type": "display_data"
    }
   ],
>>>>>>> 0745b9b7a81cc3e9eda548d2497a7f485a96fd98
   "source": [
    "ctx = utils.try_gpu()\n",
    "num_epochs = 400\n",
    "learning_rate = 0.01\n",
    "weight_decay = 5e-5\n",
    "lr_period = 400\n",
    "lr_decay = .1\n",
    "\n",
    "# net = get_simple_net(ctx)\n",
    "net = net_init(ctx)\n",
    "#net = get_simple_net(ctx,\"mymode\")\n",
    "#net  = vgg_net(ctx)\n",
    "net.hybridize()\n",
    "train(net, train_data, valid_data, num_epochs, learning_rate,weight_decay, ctx, lr_period, lr_decay)"
   ]
  },
  {
   "cell_type": "code",
   "execution_count": 16,
   "metadata": {},
   "outputs": [
    {
     "ename": "NameError",
     "evalue": "name 'get_simple_net' is not defined",
     "output_type": "error",
     "traceback": [
      "\u001b[1;31m---------------------------------------------------------------------------\u001b[0m",
      "\u001b[1;31mNameError\u001b[0m                                 Traceback (most recent call last)",
      "\u001b[1;32m<ipython-input-16-6e6b5a72e4d6>\u001b[0m in \u001b[0;36m<module>\u001b[1;34m()\u001b[0m\n\u001b[0;32m      2\u001b[0m \u001b[1;33m\u001b[0m\u001b[0m\n\u001b[0;32m      3\u001b[0m \u001b[1;33m\u001b[0m\u001b[0m\n\u001b[1;32m----> 4\u001b[1;33m \u001b[0mnet\u001b[0m \u001b[1;33m=\u001b[0m \u001b[0mget_simple_net\u001b[0m\u001b[1;33m(\u001b[0m\u001b[0mctx\u001b[0m\u001b[1;33m,\u001b[0m\u001b[1;34m\"mymode\"\u001b[0m\u001b[1;33m)\u001b[0m\u001b[1;33m\u001b[0m\u001b[0m\n\u001b[0m\u001b[0;32m      5\u001b[0m \u001b[0mnet\u001b[0m\u001b[1;33m.\u001b[0m\u001b[0mhybridize\u001b[0m\u001b[1;33m(\u001b[0m\u001b[1;33m)\u001b[0m\u001b[1;33m\u001b[0m\u001b[0m\n\u001b[0;32m      6\u001b[0m train(net, train_valid_data, None, num_epochs, learning_rate, weight_decay,\n",
      "\u001b[1;31mNameError\u001b[0m: name 'get_simple_net' is not defined"
     ]
    }
   ],
   "source": [
    "import numpy as np\n",
    "\n",
    "\n",
    "net = get_simple_net(ctx,\"mymode\")\n",
    "net.hybridize()\n",
    "train(net, train_valid_data, None, num_epochs, learning_rate, weight_decay,\n",
    "      ctx, lr_period, lr_decay)"
   ]
  },
  {
   "cell_type": "markdown",
   "metadata": {},
   "source": [
    "### 使用训练好的模型对测试样本进行预测，并保存文本"
   ]
  },
  {
   "cell_type": "code",
   "execution_count": null,
   "metadata": {
    "collapsed": true
   },
   "outputs": [],
   "source": [
    "outputs = []\n",
    "for data, label in test_data:\n",
    "    output = nd.softmax(net(data.as_in_context(ctx)))\n",
    "    outputs.extend(output.asnumpy())"
   ]
  },
  {
   "cell_type": "code",
   "execution_count": null,
   "metadata": {},
   "outputs": [],
   "source": [
    "test_pre = []\n",
    "\n",
    "for num in outputs:\n",
    "    test_pre.append(num[1])\n",
    "print (len(test_pre)==8424)"
   ]
  },
  {
   "cell_type": "code",
   "execution_count": null,
   "metadata": {
    "collapsed": true
   },
   "outputs": [],
   "source": [
    "submission = pd.DataFrame({'id': test_json[\"id\"], 'is_iceberg': test_pre})\n",
    "submission.to_csv(\"submission.csv\", index=False)"
   ]
  },
  {
   "cell_type": "code",
   "execution_count": null,
   "metadata": {
    "collapsed": true
   },
   "outputs": [],
   "source": []
  }
 ],
 "metadata": {
  "anaconda-cloud": {},
  "kernelspec": {
   "display_name": "Python [Root]",
   "language": "python",
   "name": "Python [Root]"
  },
  "language_info": {
   "codemirror_mode": {
    "name": "ipython",
    "version": 2
   },
   "file_extension": ".py",
   "mimetype": "text/x-python",
   "name": "python",
   "nbconvert_exporter": "python",
   "pygments_lexer": "ipython2",
   "version": "2.7.12"
  }
 },
 "nbformat": 4,
 "nbformat_minor": 2
}
