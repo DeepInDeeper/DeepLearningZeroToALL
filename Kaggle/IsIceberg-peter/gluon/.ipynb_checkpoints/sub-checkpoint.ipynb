{
 "cells": [
  {
   "cell_type": "code",
   "execution_count": 1,
   "metadata": {
    "collapsed": true
   },
   "outputs": [],
   "source": [
    "import numpy as np\n",
    "import pandas as pd\n",
    "\n",
    "from sklearn.model_selection import train_test_split\n",
    "from subprocess import check_output\n",
    "\n",
    "from matplotlib import pyplot as plt\n",
    "%matplotlib inline"
   ]
  },
  {
   "cell_type": "code",
   "execution_count": 6,
   "metadata": {},
   "outputs": [],
   "source": [
    "data_path = \"/media/yijie/文档/dataset/submit/ai/\"\n",
    "sub = data_path + \"result.json\"\n",
    "\n",
    "sub_json = pd.read_json(sub)"
   ]
  },
  {
   "cell_type": "code",
   "execution_count": 7,
   "metadata": {},
   "outputs": [
    {
     "data": {
      "text/html": [
       "<div>\n",
       "<style>\n",
       "    .dataframe thead tr:only-child th {\n",
       "        text-align: right;\n",
       "    }\n",
       "\n",
       "    .dataframe thead th {\n",
       "        text-align: left;\n",
       "    }\n",
       "\n",
       "    .dataframe tbody tr th {\n",
       "        vertical-align: top;\n",
       "    }\n",
       "</style>\n",
       "<table border=\"1\" class=\"dataframe\">\n",
       "  <thead>\n",
       "    <tr style=\"text-align: right;\">\n",
       "      <th></th>\n",
       "      <th>image_id</th>\n",
       "      <th>label_id</th>\n",
       "    </tr>\n",
       "  </thead>\n",
       "  <tbody>\n",
       "    <tr>\n",
       "      <th>0</th>\n",
       "      <td>8671909304e05245c76f24eef14fb63e90de7a69.jpg</td>\n",
       "      <td>[37, 51, 41]</td>\n",
       "    </tr>\n",
       "    <tr>\n",
       "      <th>1</th>\n",
       "      <td>00030d386f0654132e7af28f2705c0618880152a.jpg</td>\n",
       "      <td>[67, 62, 18]</td>\n",
       "    </tr>\n",
       "    <tr>\n",
       "      <th>2</th>\n",
       "      <td>000f0066a10c1e6b3681c4ca662388e916629040.jpg</td>\n",
       "      <td>[53, 67, 64]</td>\n",
       "    </tr>\n",
       "    <tr>\n",
       "      <th>3</th>\n",
       "      <td>000f606ed64b4c5b6d8eea9b6e08b78553b14c2b.jpg</td>\n",
       "      <td>[14, 79, 4]</td>\n",
       "    </tr>\n",
       "    <tr>\n",
       "      <th>4</th>\n",
       "      <td>001ddc0b76c15011b16f6430c1a9806d23055d0a.jpg</td>\n",
       "      <td>[64, 29, 57]</td>\n",
       "    </tr>\n",
       "  </tbody>\n",
       "</table>\n",
       "</div>"
      ],
      "text/plain": [
       "                                       image_id      label_id\n",
       "0  8671909304e05245c76f24eef14fb63e90de7a69.jpg  [37, 51, 41]\n",
       "1  00030d386f0654132e7af28f2705c0618880152a.jpg  [67, 62, 18]\n",
       "2  000f0066a10c1e6b3681c4ca662388e916629040.jpg  [53, 67, 64]\n",
       "3  000f606ed64b4c5b6d8eea9b6e08b78553b14c2b.jpg   [14, 79, 4]\n",
       "4  001ddc0b76c15011b16f6430c1a9806d23055d0a.jpg  [64, 29, 57]"
      ]
     },
     "execution_count": 7,
     "metadata": {},
     "output_type": "execute_result"
    }
   ],
   "source": [
    "sub_json.head()"
   ]
  },
  {
   "cell_type": "code",
   "execution_count": 9,
   "metadata": {},
   "outputs": [
    {
     "data": {
      "text/plain": [
       "pandas.core.frame.DataFrame"
      ]
     },
     "execution_count": 9,
     "metadata": {},
     "output_type": "execute_result"
    }
   ],
   "source": [
    "type(sub_json)"
   ]
  },
  {
   "cell_type": "code",
   "execution_count": 10,
   "metadata": {},
   "outputs": [
    {
     "name": "stdout",
     "output_type": "stream",
     "text": [
      "                                          image_id      label_id\n",
      "0     8671909304e05245c76f24eef14fb63e90de7a69.jpg  [37, 51, 41]\n",
      "1     00030d386f0654132e7af28f2705c0618880152a.jpg  [67, 62, 18]\n",
      "2     000f0066a10c1e6b3681c4ca662388e916629040.jpg  [53, 67, 64]\n",
      "3     000f606ed64b4c5b6d8eea9b6e08b78553b14c2b.jpg   [14, 79, 4]\n",
      "4     001ddc0b76c15011b16f6430c1a9806d23055d0a.jpg  [64, 29, 57]\n",
      "5     003f9999f4a79c799b0ac47dedaad6d0d00036d2.jpg    [2, 1, 26]\n",
      "6     0044166590aecbfa21c0082c1b9bca8b9f2bbedc.jpg   [9, 10, 74]\n",
      "7     0058e55d7fd24a1e958fda9b6a4a39d37f55d6d3.jpg   [4, 15, 59]\n",
      "8     005a28aadc1364d03abbb7335cd972f02dfe1b57.jpg  [65, 57, 34]\n",
      "9     005b75cbdc84c6d468fefb3086d16c8e67c617bc.jpg  [22, 74, 46]\n",
      "10    005c1f15eb986a9ca632113e7b0aa0a8fce78c28.jpg  [70, 33, 34]\n",
      "11    0061d2f3c94f3b3e2ec2412c1b6a33ea4a0401ac.jpg   [60, 6, 68]\n",
      "12    006b72c5192fdec38c09362ae4100bc28917359a.jpg   [26, 44, 5]\n",
      "13    0070765d19bad98a5fa7c8fbe4fd5a03e667db1a.jpg  [65, 45, 71]\n",
      "14    9bce1ad8ed4075911912cabfb5c859e5c1d6da30.jpg  [14, 79, 63]\n",
      "15    9bd27b813b877558f5419dc2d32e0f5948acf985.jpg  [56, 72, 43]\n",
      "16    9be74c3d34b7df9788d233de932dd7ba01eec808.jpg  [60, 72, 68]\n",
      "17    9be762d2790888db97ec5b27494cab057030262a.jpg  [34, 33, 57]\n",
      "18    9bf2f0042f74b735d69d8ace4dfa2ab96b2d9be1.jpg    [2, 1, 39]\n",
      "19    9c07103f3c15efd0abe87c953dfb1cb53eab259e.jpg  [58, 44, 26]\n",
      "20    9c1818f330657d77f8e473f5cb26d82c57b10d38.jpg  [52, 40, 39]\n",
      "21    9c18eee348a4c25906709f4b4e5fad66d40a4026.jpg  [36, 64, 57]\n",
      "22    9c191bd47d002444ca180ac8fc0b585d200dba6b.jpg   [26, 5, 44]\n",
      "23    9c1d71ae50dbd20dd9b7c8d4a33ca9da09e47c2c.jpg  [64, 47, 29]\n",
      "24    9c35df642c275c440c1b651289509c0b79ceba04.jpg   [45, 0, 40]\n",
      "25    9c3bfa6c4b66fba8d35470e1ad3bca1875167ea3.jpg  [44, 26, 40]\n",
      "26    9c416745901a3210f02ec0d2bcb4e4eae63a377b.jpg  [19, 16, 26]\n",
      "27    9c45552fc561074379a3eb8d28a377ce184b45fd.jpg  [41, 76, 71]\n",
      "28    9c55957818cfbad0df7d85090a51e9ed3158b3f3.jpg  [32, 46, 63]\n",
      "29    9c638fddbd7dfccce316ff9c9b531a207d172c18.jpg     [2, 1, 0]\n",
      "...                                            ...           ...\n",
      "7048  482b3aac5ebc681550096da172dfa23edf0dbb5b.jpg  [68, 59, 79]\n",
      "7049  48312a9a0bbd8bed66d8ef10283e6abc6e920589.jpg  [11, 19, 15]\n",
      "7050  4836afdbbc158847ae06cdcc51d390040be4c05f.jpg   [6, 33, 49]\n",
      "7051  483a43180e35748cd08bc9eff1fc1545b68ab5f3.jpg   [0, 73, 32]\n",
      "7052  4844257e48101993097ddd37da9ad8511a20d15c.jpg  [43, 67, 53]\n",
      "7053  4848539bd8bbb957fd861a76e4fa10ecaced590a.jpg  [39, 40, 26]\n",
      "7054  484f271421683139271e1ef565f9cbe8468c2d7a.jpg   [1, 14, 72]\n",
      "7055  4864f045572e18abf009cc614cea01e5335052ee.jpg  [11, 15, 13]\n",
      "7056  487f9f5421f9406d22e4072de9ddc12a55dd0743.jpg  [72, 23, 43]\n",
      "7057  353990783463fac5197a43cf01e94509d0e51d9e.jpg   [36, 60, 0]\n",
      "7058  353c2540c293e35d8ba4c97731fd2981717f8e23.jpg  [18, 53, 62]\n",
      "7059  353e7565d1ab0966d8df7cdb20eba7d7b0622551.jpg   [42, 0, 41]\n",
      "7060  354a61086bf071b7587fcf93f060b26ce4d24ec6.jpg  [31, 30, 36]\n",
      "7061  354c650eaf476fd37f16d21bf67b38d02508c505.jpg   [14, 4, 79]\n",
      "7062  3565908e3abe367b40c0be4f52b8b67454930cce.jpg  [72, 63, 46]\n",
      "7063  3573b1d7fdf840328f1616db7245b9e4186b0e31.jpg  [69, 22, 63]\n",
      "7064  3581ad56369b8504806e8aef4aaec3b107d49cad.jpg  [31, 30, 27]\n",
      "7065  358c3b68e921f15ad84e3e775154b34f6e20e398.jpg  [59, 16, 70]\n",
      "7066  359a34c5db7658a6c879a38ca2cdd79ed187b10c.jpg  [27, 30, 29]\n",
      "7067  1ca517f8ea8dfbbbdb41792c438a44ef1954113a.jpg  [55, 54, 50]\n",
      "7068  1cb81b3501d57f87c588bd542b9dc3a3d49cbdb9.jpg  [66, 77, 68]\n",
      "7069  1cbebfad9e48702758dde81fc04590c406d9584f.jpg  [78, 23, 20]\n",
      "7070  1ccf088e7a75988911e9abc31f353d02a47b25a6.jpg  [17, 59, 44]\n",
      "7071  1cd6b11e0d621911c2926439d701514c19d36d84.jpg   [1, 54, 73]\n",
      "7072  1cd9143b28e75abbe2cd15688d7402dc200dabe7.jpg  [51, 45, 57]\n",
      "7073  1cdc006be98b1db7dcbbd8809e254ff74210d963.jpg  [15, 11, 17]\n",
      "7074  1ce508007707e959ed97ea3531edbc1114dd79b9.jpg  [52, 58, 54]\n",
      "7075  1ce84b24f0ec7da09a5161c1233b32eb8fa6d6ac.jpg  [29, 30, 27]\n",
      "7076  1d09714a35eb4d3e16fb7a183fcb503c08848c2a.jpg    [4, 14, 1]\n",
      "7077  1d0b447681c41e01eecbce450afddfe3d73441dc.jpg  [40, 39, 51]\n",
      "\n",
      "[7078 rows x 2 columns]\n"
     ]
    }
   ],
   "source": [
    "print sub_json"
   ]
  },
  {
   "cell_type": "code",
   "execution_count": 12,
   "metadata": {},
   "outputs": [
    {
     "data": {
      "text/html": [
       "<div>\n",
       "<style>\n",
       "    .dataframe thead tr:only-child th {\n",
       "        text-align: right;\n",
       "    }\n",
       "\n",
       "    .dataframe thead th {\n",
       "        text-align: left;\n",
       "    }\n",
       "\n",
       "    .dataframe tbody tr th {\n",
       "        vertical-align: top;\n",
       "    }\n",
       "</style>\n",
       "<table border=\"1\" class=\"dataframe\">\n",
       "  <thead>\n",
       "    <tr style=\"text-align: right;\">\n",
       "      <th></th>\n",
       "      <th>image_id</th>\n",
       "      <th>label_id</th>\n",
       "    </tr>\n",
       "  </thead>\n",
       "  <tbody>\n",
       "    <tr>\n",
       "      <th>3056</th>\n",
       "      <td>9fd6f3ea24039ad632a43390ada10dd1e747b5c2.jpg</td>\n",
       "      <td>[75, 71, 58]</td>\n",
       "    </tr>\n",
       "  </tbody>\n",
       "</table>\n",
       "</div>"
      ],
      "text/plain": [
       "                                          image_id      label_id\n",
       "3056  9fd6f3ea24039ad632a43390ada10dd1e747b5c2.jpg  [75, 71, 58]"
      ]
     },
     "execution_count": 12,
     "metadata": {},
     "output_type": "execute_result"
    }
   ],
   "source": [
    "sub_json[sub_json[\"image_id\"]==\"72c4118fd63e234660dd1a0f9aa29b8e8b3358e6.jpg\"]"
   ]
  },
  {
   "cell_type": "code",
   "execution_count": null,
   "metadata": {
    "collapsed": true
   },
   "outputs": [],
   "source": []
  }
 ],
 "metadata": {
  "kernelspec": {
   "display_name": "Python 2",
   "language": "python",
   "name": "python2"
  },
  "language_info": {
   "codemirror_mode": {
    "name": "ipython",
    "version": 2
   },
   "file_extension": ".py",
   "mimetype": "text/x-python",
   "name": "python",
   "nbconvert_exporter": "python",
   "pygments_lexer": "ipython2",
   "version": "2.7.13"
  }
 },
 "nbformat": 4,
 "nbformat_minor": 2
}
