{
 "cells": [
  {
   "cell_type": "code",
   "execution_count": 1,
   "metadata": {
    "collapsed": true
   },
   "outputs": [],
   "source": [
    "# 加载数据分析常用库\n",
    "import pandas as pd\n",
    "import numpy as np\n",
    "import matplotlib.pyplot as plt\n",
    "import os\n",
    "import json\n",
    "\n",
    "% matplotlib inline"
   ]
  },
  {
   "cell_type": "code",
   "execution_count": 2,
   "metadata": {
    "collapsed": true
   },
   "outputs": [],
   "source": [
    "DATASET_DIR    = \"D:\\dataset\\paddle\" #\"/mnt/BROAD-datasets/\"\n",
    "STORE_DIR = 'D:\\dataset\\paddle\\store'\n",
    "\n",
    "\n",
    "TRAINING_DIR   = os.path.join(DATASET_DIR, \"training\")\n",
    "VALIDATION_DIR = os.path.join(DATASET_DIR, \"valid\")\n",
    "TESTING_DIR    = os.path.join(DATASET_DIR, \"test\")\n",
    "\n",
    "METAPATH            = os.path.join(STORE_DIR, \"meta.json\")\n",
    "TRAINING_METAPATH   = os.path.join(STORE_DIR, 'training.json')\n",
    "VALIDATION_METAPATH = os.path.join(STORE_DIR, 'validation.json')\n",
    "TESTING_METAPATH    = os.path.join(STORE_DIR, 'testing.json')"
   ]
  },
  {
   "cell_type": "code",
   "execution_count": 3,
   "metadata": {
    "collapsed": true
   },
   "outputs": [],
   "source": [
    "def _extract_meta(dataset=\"training\", force=False):\n",
    "    \n",
    "    if dataset == 'training':\n",
    "        data_dir = TRAINING_DIR\n",
    "        label_path = TRAINING_METAPATH\n",
    "    elif dataset == 'testing':\n",
    "        data_dir = TESTING_DIR\n",
    "        label_path = TESTING_METAPATH\n",
    "    else:\n",
    "        data_dir   = VALIDATION_DIR\n",
    "        label_path = VALIDATION_METAPATH \n",
    "\n",
    "    if force is False and os.path.exists(label_path):\n",
    "        with open(label_path, 'rb') as f:\n",
    "            meta = json.load(f)\n",
    "    else:\n",
    "\n",
    "        # Get filename without extension .pkl\n",
    "        indices = [os.path.splitext(name)[0] for name in os.listdir(data_dir) if os.path.splitext(name)[1] == \".pkl\"]\n",
    "\n",
    "        # Load json string from meta.json as Dictionry and extract `dataset` revelant field\n",
    "        meta = {}\n",
    "        db = {}\n",
    "\n",
    "        with open(METAPATH, 'rb') as f:\n",
    "            metadata = json.load(f)\n",
    "            meta['version'] = metadata['version']\n",
    "            database = metadata['database']\n",
    "            for index in indices:\n",
    "                if index in database:\n",
    "                    db[index] = database[index]\n",
    "            meta['database'] = db\n",
    "\n",
    "        # Save extracted Dictionay as train.json or test.json\n",
    "        with open(label_path, 'wb') as f:\n",
    "            json.dump(meta, f)\n",
    "\n",
    "    return meta"
   ]
  },
  {
   "cell_type": "code",
   "execution_count": 4,
   "metadata": {
    "collapsed": true
   },
   "outputs": [],
   "source": [
    "def extract_meta(force=False):\n",
    "\n",
    "    #train_meta = _extract_meta('training', force=force)\n",
    "    validation_meta = _extract_meta('validation', force=force)\n",
    "    test_meta = _extract_meta('testing', force=force)\n",
    "\n",
    "    return validation_meta, test_meta"
   ]
  },
  {
   "cell_type": "code",
   "execution_count": 6,
   "metadata": {},
   "outputs": [],
   "source": [
    "validation_meta, test_meta = extract_meta()"
   ]
  }
 ],
 "metadata": {
  "kernelspec": {
   "display_name": "Python 2",
   "language": "python",
   "name": "python2"
  },
  "language_info": {
   "codemirror_mode": {
    "name": "ipython",
    "version": 2
   },
   "file_extension": ".py",
   "mimetype": "text/x-python",
   "name": "python",
   "nbconvert_exporter": "python",
   "pygments_lexer": "ipython2",
   "version": "2.7.13"
  }
 },
 "nbformat": 4,
 "nbformat_minor": 2
}
