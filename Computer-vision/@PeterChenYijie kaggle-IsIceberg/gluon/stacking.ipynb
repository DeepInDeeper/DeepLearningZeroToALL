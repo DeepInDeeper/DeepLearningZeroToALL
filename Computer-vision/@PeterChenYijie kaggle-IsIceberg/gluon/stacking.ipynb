{
 "cells": [
  {
   "cell_type": "code",
   "execution_count": 1,
   "metadata": {},
   "outputs": [],
   "source": [
    "import os\n",
    "import numpy as np \n",
    "import pandas as pd \n",
    "from subprocess import check_output"
   ]
  },
  {
   "cell_type": "code",
   "execution_count": 2,
   "metadata": {},
   "outputs": [
    {
     "name": "stdout",
     "output_type": "stream",
     "text": [
      "['sub_200_ens_densenet.csv', 'sub_blend009.csv', 'sub_fcn.csv', 'sub_keras_beginner.csv', 'sub_TF_keras.csv']\n"
     ]
    },
    {
     "data": {
      "text/html": [
       "<div>\n",
       "<style>\n",
       "    .dataframe thead tr:only-child th {\n",
       "        text-align: right;\n",
       "    }\n",
       "\n",
       "    .dataframe thead th {\n",
       "        text-align: left;\n",
       "    }\n",
       "\n",
       "    .dataframe tbody tr th {\n",
       "        vertical-align: top;\n",
       "    }\n",
       "</style>\n",
       "<table border=\"1\" class=\"dataframe\">\n",
       "  <thead>\n",
       "    <tr style=\"text-align: right;\">\n",
       "      <th></th>\n",
       "      <th>id</th>\n",
       "      <th>is_iceberg_0</th>\n",
       "      <th>is_iceberg_1</th>\n",
       "      <th>is_iceberg_2</th>\n",
       "      <th>is_iceberg_3</th>\n",
       "      <th>is_iceberg_4</th>\n",
       "    </tr>\n",
       "  </thead>\n",
       "  <tbody>\n",
       "    <tr>\n",
       "      <th>0</th>\n",
       "      <td>5941774d</td>\n",
       "      <td>1.943216e-02</td>\n",
       "      <td>0.094676</td>\n",
       "      <td>0.008171</td>\n",
       "      <td>0.010215</td>\n",
       "      <td>0.005586</td>\n",
       "    </tr>\n",
       "    <tr>\n",
       "      <th>1</th>\n",
       "      <td>4023181e</td>\n",
       "      <td>3.168809e-02</td>\n",
       "      <td>0.952222</td>\n",
       "      <td>0.638348</td>\n",
       "      <td>0.237662</td>\n",
       "      <td>0.145927</td>\n",
       "    </tr>\n",
       "    <tr>\n",
       "      <th>2</th>\n",
       "      <td>b20200e4</td>\n",
       "      <td>4.000000e-08</td>\n",
       "      <td>0.167771</td>\n",
       "      <td>0.008061</td>\n",
       "      <td>1.000000</td>\n",
       "      <td>0.000015</td>\n",
       "    </tr>\n",
       "    <tr>\n",
       "      <th>3</th>\n",
       "      <td>e7f018bb</td>\n",
       "      <td>9.925741e-01</td>\n",
       "      <td>0.989356</td>\n",
       "      <td>0.999506</td>\n",
       "      <td>0.999533</td>\n",
       "      <td>0.999914</td>\n",
       "    </tr>\n",
       "    <tr>\n",
       "      <th>4</th>\n",
       "      <td>4371c8c3</td>\n",
       "      <td>2.215107e-02</td>\n",
       "      <td>0.900321</td>\n",
       "      <td>0.774739</td>\n",
       "      <td>0.994269</td>\n",
       "      <td>0.033843</td>\n",
       "    </tr>\n",
       "  </tbody>\n",
       "</table>\n",
       "</div>"
      ],
      "text/plain": [
       "         id  is_iceberg_0  is_iceberg_1  is_iceberg_2  is_iceberg_3  \\\n",
       "0  5941774d  1.943216e-02      0.094676      0.008171      0.010215   \n",
       "1  4023181e  3.168809e-02      0.952222      0.638348      0.237662   \n",
       "2  b20200e4  4.000000e-08      0.167771      0.008061      1.000000   \n",
       "3  e7f018bb  9.925741e-01      0.989356      0.999506      0.999533   \n",
       "4  4371c8c3  2.215107e-02      0.900321      0.774739      0.994269   \n",
       "\n",
       "   is_iceberg_4  \n",
       "0      0.005586  \n",
       "1      0.145927  \n",
       "2      0.000015  \n",
       "3      0.999914  \n",
       "4      0.033843  "
      ]
     },
     "execution_count": 2,
     "metadata": {},
     "output_type": "execute_result"
    }
   ],
   "source": [
    "sub_path = \"D:\\dataset\\submit\\kaggle_iceberg\\stacking\"\n",
    "all_files = os.listdir(sub_path)\n",
    "print all_files\n",
    "\n",
    "# Read and concatenate submissions\n",
    "outs = [pd.read_csv(os.path.join(sub_path, f), index_col=0) for f in all_files]\n",
    "concat_sub = pd.concat(outs, axis=1)\n",
    "cols = list(map(lambda x: \"is_iceberg_\" + str(x), range(len(concat_sub.columns))))\n",
    "concat_sub.columns = cols\n",
    "concat_sub.reset_index(inplace=True)\n",
    "concat_sub.head()"
   ]
  },
  {
   "cell_type": "code",
   "execution_count": 3,
   "metadata": {},
   "outputs": [
    {
     "data": {
      "text/html": [
       "<div>\n",
       "<style>\n",
       "    .dataframe thead tr:only-child th {\n",
       "        text-align: right;\n",
       "    }\n",
       "\n",
       "    .dataframe thead th {\n",
       "        text-align: left;\n",
       "    }\n",
       "\n",
       "    .dataframe tbody tr th {\n",
       "        vertical-align: top;\n",
       "    }\n",
       "</style>\n",
       "<table border=\"1\" class=\"dataframe\">\n",
       "  <thead>\n",
       "    <tr style=\"text-align: right;\">\n",
       "      <th></th>\n",
       "      <th>is_iceberg_0</th>\n",
       "      <th>is_iceberg_1</th>\n",
       "      <th>is_iceberg_2</th>\n",
       "      <th>is_iceberg_3</th>\n",
       "      <th>is_iceberg_4</th>\n",
       "    </tr>\n",
       "  </thead>\n",
       "  <tbody>\n",
       "    <tr>\n",
       "      <th>is_iceberg_0</th>\n",
       "      <td>1.000000</td>\n",
       "      <td>0.420791</td>\n",
       "      <td>0.809320</td>\n",
       "      <td>0.516280</td>\n",
       "      <td>0.890434</td>\n",
       "    </tr>\n",
       "    <tr>\n",
       "      <th>is_iceberg_1</th>\n",
       "      <td>0.420791</td>\n",
       "      <td>1.000000</td>\n",
       "      <td>0.489134</td>\n",
       "      <td>0.432111</td>\n",
       "      <td>0.493308</td>\n",
       "    </tr>\n",
       "    <tr>\n",
       "      <th>is_iceberg_2</th>\n",
       "      <td>0.809320</td>\n",
       "      <td>0.489134</td>\n",
       "      <td>1.000000</td>\n",
       "      <td>0.490128</td>\n",
       "      <td>0.789509</td>\n",
       "    </tr>\n",
       "    <tr>\n",
       "      <th>is_iceberg_3</th>\n",
       "      <td>0.516280</td>\n",
       "      <td>0.432111</td>\n",
       "      <td>0.490128</td>\n",
       "      <td>1.000000</td>\n",
       "      <td>0.548663</td>\n",
       "    </tr>\n",
       "    <tr>\n",
       "      <th>is_iceberg_4</th>\n",
       "      <td>0.890434</td>\n",
       "      <td>0.493308</td>\n",
       "      <td>0.789509</td>\n",
       "      <td>0.548663</td>\n",
       "      <td>1.000000</td>\n",
       "    </tr>\n",
       "  </tbody>\n",
       "</table>\n",
       "</div>"
      ],
      "text/plain": [
       "              is_iceberg_0  is_iceberg_1  is_iceberg_2  is_iceberg_3  \\\n",
       "is_iceberg_0      1.000000      0.420791      0.809320      0.516280   \n",
       "is_iceberg_1      0.420791      1.000000      0.489134      0.432111   \n",
       "is_iceberg_2      0.809320      0.489134      1.000000      0.490128   \n",
       "is_iceberg_3      0.516280      0.432111      0.490128      1.000000   \n",
       "is_iceberg_4      0.890434      0.493308      0.789509      0.548663   \n",
       "\n",
       "              is_iceberg_4  \n",
       "is_iceberg_0      0.890434  \n",
       "is_iceberg_1      0.493308  \n",
       "is_iceberg_2      0.789509  \n",
       "is_iceberg_3      0.548663  \n",
       "is_iceberg_4      1.000000  "
      ]
     },
     "execution_count": 3,
     "metadata": {},
     "output_type": "execute_result"
    }
   ],
   "source": [
    "# check correlation\n",
    "concat_sub.corr()"
   ]
  },
  {
   "cell_type": "code",
   "execution_count": 4,
   "metadata": {},
   "outputs": [],
   "source": [
    "# get the data fields ready for stacking\n",
    "concat_sub['is_iceberg_max'] = concat_sub.iloc[:, 1:6].max(axis=1)\n",
    "concat_sub['is_iceberg_min'] = concat_sub.iloc[:, 1:6].min(axis=1)\n",
    "concat_sub['is_iceberg_mean'] = concat_sub.iloc[:, 1:6].mean(axis=1)\n",
    "concat_sub['is_iceberg_median'] = concat_sub.iloc[:, 1:6].median(axis=1)"
   ]
  },
  {
   "cell_type": "code",
   "execution_count": 5,
   "metadata": {
    "collapsed": true
   },
   "outputs": [],
   "source": [
    "# set up cutoff threshold for lower and upper bounds, easy to twist \n",
    "cutoff_lo = 0.7\n",
    "cutoff_hi = 0.3"
   ]
  },
  {
   "cell_type": "code",
   "execution_count": 6,
   "metadata": {},
   "outputs": [],
   "source": [
    "# load the model with best base performance\n",
    "sub_base = pd.read_csv('D:\\dataset\\submit\\kaggle_iceberg\\stacking\\sub_200_ens_densenet.csv')"
   ]
  },
  {
   "cell_type": "code",
   "execution_count": 7,
   "metadata": {},
   "outputs": [],
   "source": [
    "concat_sub['is_iceberg_base'] = sub_base['is_iceberg']\n",
    "concat_sub['is_iceberg'] = np.where(np.all(concat_sub.iloc[:,1:6] > cutoff_lo, axis=1), \n",
    "                                    concat_sub['is_iceberg_max'], \n",
    "                                    np.where(np.all(concat_sub.iloc[:,1:6] < cutoff_hi, axis=1),\n",
    "                                             concat_sub['is_iceberg_min'], \n",
    "                                             concat_sub['is_iceberg_base']))\n",
    "\n",
    "concat_sub['is_iceberg'] = np.clip(concat_sub['is_iceberg'].values, 0.001, 0.999)\n",
    "concat_sub[['id', 'is_iceberg']].to_csv('stack_minmax_bestbase.csv', \n",
    "                                        index=False, float_format='%.6f')"
   ]
  }
 ],
 "metadata": {
  "kernelspec": {
   "display_name": "Python 2",
   "language": "python",
   "name": "python2"
  },
  "language_info": {
   "codemirror_mode": {
    "name": "ipython",
    "version": 2
   },
   "file_extension": ".py",
   "mimetype": "text/x-python",
   "name": "python",
   "nbconvert_exporter": "python",
   "pygments_lexer": "ipython2",
   "version": "2.7.13"
  }
 },
 "nbformat": 4,
 "nbformat_minor": 2
}
